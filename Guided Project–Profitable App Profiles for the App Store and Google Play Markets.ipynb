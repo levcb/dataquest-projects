{
 "cells": [
  {
   "cell_type": "markdown",
   "metadata": {},
   "source": [
    "# Dataquest Guided Project: Profitable App Profiles for the App Store and Google Play Markets\n",
    "Lev Craig ([levcb](www.github.com/levcb))\n",
    "\n",
    "This project identifies mobile app profiles that are profitable in the App Store and Google Play markets. This project provides data insights intended to facilitate data-driven decisions about app characteristics for a hypothetical company building free apps. Accordingly, this hypothetical company's main source of revenue is in-app ads, meaning that the revenue for a given app is driven primarily by its number of users.\n",
    "\n",
    "Two datasets are used here: one containing data about approximately 10,000 Android apps from Google Play, and another containing data about approximately 7,000 iOS apps from the App Store."
   ]
  },
  {
   "cell_type": "markdown",
   "metadata": {},
   "source": [
    "We'll start by opening and exploring the two datasets. The below function prints rows in a readable way."
   ]
  },
  {
   "cell_type": "code",
   "execution_count": 1,
   "metadata": {},
   "outputs": [],
   "source": [
    "def explore_data(dataset, start, end, rows_and_columns=False):\n",
    "    # define section of dataset to explore\n",
    "    dataset_slice = dataset[start:end]\n",
    "    # print each row in selected slice\n",
    "    for row in dataset_slice:\n",
    "        print(row)\n",
    "        # insert line break to improve readability\n",
    "        print('\\n')\n",
    "    # if rows_and_columns parameter set to True, print numbers of rows and columns\n",
    "    if rows_and_columns:\n",
    "        print(\"Number of rows: \", len(dataset))\n",
    "        print(\"Number of columns: \", len(dataset[0]))"
   ]
  },
  {
   "cell_type": "markdown",
   "metadata": {},
   "source": [
    "Next, we'll open each dataset."
   ]
  },
  {
   "cell_type": "code",
   "execution_count": 2,
   "metadata": {},
   "outputs": [],
   "source": [
    "from csv import reader\n",
    "\n",
    "# open Apple Store dataset\n",
    "ios_data = list(reader(open('AppleStore.csv')))\n",
    "# separate header row from data rows\n",
    "ios_header = ios_data[0]\n",
    "ios_data = ios_data[1:]\n",
    "\n",
    "# open Google Play dataset\n",
    "android_data = list(reader(open('googleplaystore.csv')))\n",
    "# separate header row from data rows\n",
    "android_header = android_data[0]\n",
    "android_data = android_data[1:]"
   ]
  },
  {
   "cell_type": "markdown",
   "metadata": {},
   "source": [
    "Now that we've opened the datasets, we'll use our `explore_data` function to explore them. The below cells print the first few rows and the number of columns and rows in each dataset."
   ]
  },
  {
   "cell_type": "code",
   "execution_count": 3,
   "metadata": {},
   "outputs": [
    {
     "name": "stdout",
     "output_type": "stream",
     "text": [
      "['284882215', 'Facebook', '389879808', 'USD', '0.0', '2974676', '212', '3.5', '3.5', '95.0', '4+', 'Social Networking', '37', '1', '29', '1']\n",
      "\n",
      "\n",
      "['389801252', 'Instagram', '113954816', 'USD', '0.0', '2161558', '1289', '4.5', '4.0', '10.23', '12+', 'Photo & Video', '37', '0', '29', '1']\n",
      "\n",
      "\n",
      "['529479190', 'Clash of Clans', '116476928', 'USD', '0.0', '2130805', '579', '4.5', '4.5', '9.24.12', '9+', 'Games', '38', '5', '18', '1']\n",
      "\n",
      "\n",
      "Number of rows:  7197\n",
      "Number of columns:  16\n"
     ]
    }
   ],
   "source": [
    "# print first three rows and number of rows and columns in iOS dataset\n",
    "explore_data(ios_data, 0, 3, True)"
   ]
  },
  {
   "cell_type": "code",
   "execution_count": 4,
   "metadata": {},
   "outputs": [
    {
     "name": "stdout",
     "output_type": "stream",
     "text": [
      "['Photo Editor & Candy Camera & Grid & ScrapBook', 'ART_AND_DESIGN', '4.1', '159', '19M', '10,000+', 'Free', '0', 'Everyone', 'Art & Design', 'January 7, 2018', '1.0.0', '4.0.3 and up']\n",
      "\n",
      "\n",
      "['Coloring book moana', 'ART_AND_DESIGN', '3.9', '967', '14M', '500,000+', 'Free', '0', 'Everyone', 'Art & Design;Pretend Play', 'January 15, 2018', '2.0.0', '4.0.3 and up']\n",
      "\n",
      "\n",
      "['U Launcher Lite – FREE Live Cool Themes, Hide Apps', 'ART_AND_DESIGN', '4.7', '87510', '8.7M', '5,000,000+', 'Free', '0', 'Everyone', 'Art & Design', 'August 1, 2018', '1.2.4', '4.0.3 and up']\n",
      "\n",
      "\n",
      "Number of rows:  10841\n",
      "Number of columns:  13\n"
     ]
    }
   ],
   "source": [
    "# print first three rows and number of rows and columns in Android dataset\n",
    "explore_data(android_data, 0, 3, True)"
   ]
  },
  {
   "cell_type": "markdown",
   "metadata": {},
   "source": [
    "Now we'll print the column headings for each dataset to help us identify which columns will be most useful for our purposes. (To make this data more comprehensible, I've created tables providing the iOS and Android column names and descriptions.)"
   ]
  },
  {
   "cell_type": "code",
   "execution_count": 5,
   "metadata": {},
   "outputs": [
    {
     "name": "stdout",
     "output_type": "stream",
     "text": [
      "['id', 'track_name', 'size_bytes', 'currency', 'price', 'rating_count_tot', 'rating_count_ver', 'user_rating', 'user_rating_ver', 'ver', 'cont_rating', 'prime_genre', 'sup_devices.num', 'ipadSc_urls.num', 'lang.num', 'vpp_lic']\n",
      "['App', 'Category', 'Rating', 'Reviews', 'Size', 'Installs', 'Type', 'Price', 'Content Rating', 'Genres', 'Last Updated', 'Current Ver', 'Android Ver']\n"
     ]
    }
   ],
   "source": [
    "print(ios_header)\n",
    "print(android_header)"
   ]
  },
  {
   "cell_type": "markdown",
   "metadata": {},
   "source": [
    "### iOS\n",
    "| Column Name        | Description                                   |\n",
    "|--------------------|-----------------------------------------------|\n",
    "| `id`               | App ID                                        |\n",
    "| `track_name`       | App name                                      |\n",
    "| `size_bytes`       | Size (in bytes)                               |\n",
    "| `currency`         | Currency type                                 |\n",
    "| `price`            | Price amount                                  |\n",
    "| `rating_count_tot` | User rating counts (for all versions)         |\n",
    "| `rating_count_ver` | User rating counts (for current version)      |\n",
    "| `user_rating`      | Average user rating (for all versions)        |\n",
    "| `user_rating_ver`  | Average user rating (for current version)     |\n",
    "| `ver`              | Latest version code                           |\n",
    "| `cont_rating`      | Content rating                                |\n",
    "| `prime_genre`      | Primary genre                                 |\n",
    "| `sup_devices.num`  | Number of supporting devices                  |\n",
    "| `ipadSc_urls.num`  | Number of screenshots shown for display       |\n",
    "| `lang.num`         | Number of supported languages                 |\n",
    "| `vpp_lic`          | Whether VPP device-based licensing is enabled |"
   ]
  },
  {
   "cell_type": "markdown",
   "metadata": {},
   "source": [
    "### Android\n",
    "| Column Name        | Description                                          |\n",
    "|--------------------|------------------------------------------------------|\n",
    "| `App`              | App name                                             |\n",
    "| `Category`         | Category the app belongs to                          |\n",
    "| `Rating`           | Overall user rating of the app                       |\n",
    "| `Reviews`          | Number of user reviews for the app                   |\n",
    "| `Size`             | Size of the app                                      |\n",
    "| `Installs`         | Number of user downloads/installs                    |\n",
    "| `Type`             | Paid or free                                         |\n",
    "| `Price`            | Price of the app                                     |\n",
    "| `Content Rating`   | Age group the app is targeted at                     |\n",
    "| `Genres`           | Genres an app belongs to in addition to its category |\n"
   ]
  },
  {
   "cell_type": "markdown",
   "metadata": {},
   "source": [
    "Before beginning our analysis, we'll remove any incorrect or duplicate data, any non–English language apps, and any apps that aren't free (as we're only interested in English apps that are free to download).\n",
    "\n",
    "Other users have found that the Google Play dataset has a mistake in row 10472:"
   ]
  },
  {
   "cell_type": "code",
   "execution_count": 6,
   "metadata": {},
   "outputs": [
    {
     "name": "stdout",
     "output_type": "stream",
     "text": [
      "['Life Made WI-Fi Touchscreen Photo Frame', '1.9', '19', '3.0M', '1,000+', 'Free', '0', 'Everyone', '', 'February 11, 2018', '1.0.19', '4.0 and up']\n"
     ]
    }
   ],
   "source": [
    "print(android_data[10472])"
   ]
  },
  {
   "cell_type": "markdown",
   "metadata": {},
   "source": [
    "The `Category` value (`android_data[10472][8]`) is missing from this entry, which causes a column shift.\n",
    "\n",
    "In the next code cell, we'll delete this row to remove the problem data from our dataset."
   ]
  },
  {
   "cell_type": "code",
   "execution_count": 7,
   "metadata": {},
   "outputs": [],
   "source": [
    "del android_data[10472]"
   ]
  },
  {
   "cell_type": "markdown",
   "metadata": {},
   "source": [
    "Now, if we print `android_data[10472]` again, we'll see that the problem row has been deleted:"
   ]
  },
  {
   "cell_type": "code",
   "execution_count": 8,
   "metadata": {},
   "outputs": [
    {
     "name": "stdout",
     "output_type": "stream",
     "text": [
      "['osmino Wi-Fi: free WiFi', 'TOOLS', '4.2', '134203', '4.1M', '10,000,000+', 'Free', '0', 'Everyone', 'Tools', 'August 7, 2018', '6.06.14', '4.4 and up']\n"
     ]
    }
   ],
   "source": [
    "print(android_data[10472])"
   ]
  },
  {
   "cell_type": "markdown",
   "metadata": {},
   "source": [
    "The Google Play dataset also has some duplicate entries. Below, we'll define a function that finds duplicate apps and unique apps in a given dataset. We'll then use that function to find the number of duplicate and unique Android apps in our dataset as well as a few examples of each."
   ]
  },
  {
   "cell_type": "code",
   "execution_count": 9,
   "metadata": {},
   "outputs": [
    {
     "name": "stdout",
     "output_type": "stream",
     "text": [
      "Number of duplicate Android apps:  1181\n",
      "Examples of duplicate Android apps:  ['Box', 'Zenefits', 'Google Ads', 'Google My Business', 'Slack']\n",
      "Number of unique Android apps:  9659\n",
      "Examples of unique Android apps:  ['Photo Editor & Candy Camera & Grid & ScrapBook', 'Coloring book moana', 'U Launcher Lite – FREE Live Cool Themes, Hide Apps', 'Sketch - Draw & Paint', 'Pixel Draw - Number Art Coloring Book']\n"
     ]
    }
   ],
   "source": [
    "def find_duplicates(dataset):\n",
    "    duplicate_apps = []\n",
    "    unique_apps = []\n",
    "    # loop through dataset, add app to duplicate list if multiples found\n",
    "    for app in dataset:\n",
    "        name = app[0]\n",
    "        if name in unique_apps:\n",
    "            duplicate_apps.append(name)\n",
    "        else:\n",
    "            unique_apps.append(name)\n",
    "    return [duplicate_apps, unique_apps]\n",
    "\n",
    "android_duplicates = find_duplicates(android_data)\n",
    "# print total duplicate and unique apps along with examples for Android dataset\n",
    "print(\"Number of duplicate Android apps: \", len(android_duplicates[0]))\n",
    "print(\"Examples of duplicate Android apps: \", android_duplicates[0][5:10])\n",
    "print(\"Number of unique Android apps: \", len(android_duplicates[1]))\n",
    "print(\"Examples of unique Android apps: \", android_duplicates[1][0:5])"
   ]
  },
  {
   "cell_type": "markdown",
   "metadata": {},
   "source": [
    "We can see this duplicate data by creating a function to print duplicate rows, then calling it for one of the duplicate apps we identified above (Slack) to show that there are multiple entries for Slack in our dataset."
   ]
  },
  {
   "cell_type": "code",
   "execution_count": 10,
   "metadata": {},
   "outputs": [
    {
     "name": "stdout",
     "output_type": "stream",
     "text": [
      "['Slack', 'BUSINESS', '4.4', '51507', 'Varies with device', '5,000,000+', 'Free', '0', 'Everyone', 'Business', 'August 2, 2018', 'Varies with device', 'Varies with device']\n",
      "['Slack', 'BUSINESS', '4.4', '51507', 'Varies with device', '5,000,000+', 'Free', '0', 'Everyone', 'Business', 'August 2, 2018', 'Varies with device', 'Varies with device']\n",
      "['Slack', 'BUSINESS', '4.4', '51510', 'Varies with device', '5,000,000+', 'Free', '0', 'Everyone', 'Business', 'August 2, 2018', 'Varies with device', 'Varies with device']\n"
     ]
    }
   ],
   "source": [
    "def list_duplicates(app_name, dataset):\n",
    "    # loop through dataset, print all entries for a given app\n",
    "    for app in dataset:\n",
    "        name = app[0]\n",
    "        if name == app_name:\n",
    "            print(app)\n",
    "\n",
    "list_duplicates('Slack', android_data)"
   ]
  },
  {
   "cell_type": "markdown",
   "metadata": {},
   "source": [
    "By running the `find_duplicates()` function on the dataset for iOS apps, we can see that there are no duplicates in the iOS dataset."
   ]
  },
  {
   "cell_type": "code",
   "execution_count": 11,
   "metadata": {},
   "outputs": [
    {
     "name": "stdout",
     "output_type": "stream",
     "text": [
      "Number of duplicate iOS apps:  0\n",
      "Examples of duplicate iOS apps:  []\n",
      "Number of unique iOS apps:  7197\n",
      "Examples of unique iOS apps:  ['284882215', '389801252', '529479190', '420009108']\n"
     ]
    }
   ],
   "source": [
    "ios_duplicates = find_duplicates(ios_data)\n",
    "# print total duplicate and unique apps along with examples for iOS dataset\n",
    "print(\"Number of duplicate iOS apps: \", len(ios_duplicates[0]))\n",
    "print(\"Examples of duplicate iOS apps: \", ios_duplicates[0][0:4])\n",
    "print(\"Number of unique iOS apps: \", len(ios_duplicates[1]))\n",
    "print(\"Examples of unique iOS apps: \", ios_duplicates[1][0:4])"
   ]
  },
  {
   "cell_type": "markdown",
   "metadata": {},
   "source": [
    "Now we'll remove the duplicates from the Google Play dataset by keeping only the most recent entry for each duplicated app. We'll do this by finding the entry with the highest number of user reviews (found in the `Reviews` column of the dataset at index `[3]`). To continue with our example of Slack, this means that we'll want the Slack entry with 51,510 user reviews, rather than the entry with 51,507 user reviews.\n",
    "\n",
    "We'll start by creating a dictionary called `reviews_max` that contains the names of all apps in the dataset as keys and their highest number of user reviews as values."
   ]
  },
  {
   "cell_type": "code",
   "execution_count": 12,
   "metadata": {},
   "outputs": [],
   "source": [
    "reviews_max = {}\n",
    "for app in android_data:\n",
    "    # loop through Android dataset to create dictionary\n",
    "    name = app[0]\n",
    "    # convert number of reviews to float\n",
    "    n_reviews = float(app[3])\n",
    "    if (name in reviews_max and reviews_max[name] < n_reviews) or name not in reviews_max:\n",
    "        reviews_max[name] = n_reviews"
   ]
  },
  {
   "cell_type": "markdown",
   "metadata": {},
   "source": [
    "Now, we'll test whether everything went as expected by finding the length of the `reviews_max` dictionary (which should be 9,659, the same as the number of unique Android apps) and the number of user reviews for Slack (which should be 51,510)."
   ]
  },
  {
   "cell_type": "code",
   "execution_count": 13,
   "metadata": {},
   "outputs": [
    {
     "name": "stdout",
     "output_type": "stream",
     "text": [
      "9659\n",
      "51510.0\n"
     ]
    }
   ],
   "source": [
    "print(len(reviews_max))\n",
    "print(reviews_max['Slack'])"
   ]
  },
  {
   "cell_type": "markdown",
   "metadata": {},
   "source": [
    "As shown above, everything ran as expected. Now we'll use the dictionary we created to remove  duplicate rows from our Android dataset."
   ]
  },
  {
   "cell_type": "code",
   "execution_count": 14,
   "metadata": {},
   "outputs": [],
   "source": [
    "android_clean = []\n",
    "already_added = []\n",
    "# loop through dataset to create a dataset free of duplicates\n",
    "for app in android_data:\n",
    "    name = app[0]\n",
    "    # convert number of reviews to float\n",
    "    n_reviews = float(app[3])\n",
    "    if n_reviews == reviews_max[name] and name not in already_added:\n",
    "        android_clean.append(app)\n",
    "        already_added.append(name)"
   ]
  },
  {
   "cell_type": "markdown",
   "metadata": {},
   "source": [
    "Below, we'll check the length of the `android_clean` dataset to confirm that our clean dataset has a length of 9,659."
   ]
  },
  {
   "cell_type": "code",
   "execution_count": 15,
   "metadata": {},
   "outputs": [
    {
     "name": "stdout",
     "output_type": "stream",
     "text": [
      "9659\n"
     ]
    }
   ],
   "source": [
    "print(len(android_clean))"
   ]
  },
  {
   "cell_type": "markdown",
   "metadata": {},
   "source": [
    "Having confirmed the correct link, we'll now define a function that confirms whether an app name has more than three characters that aren't common English characters. If so, we'll conclude that that app likely isn't in English (returning `False`)."
   ]
  },
  {
   "cell_type": "code",
   "execution_count": 16,
   "metadata": {},
   "outputs": [
    {
     "name": "stdout",
     "output_type": "stream",
     "text": [
      "True\n",
      "False\n",
      "True\n",
      "True\n"
     ]
    }
   ],
   "source": [
    "def is_english(string):\n",
    "    non_english_chars = 0\n",
    "    # use Unicode code point of a given character to determine whether it is a common\n",
    "    # English character. Values above 127 are non-standard characters\n",
    "    for char in string: \n",
    "        if ord(char) > 127: non_english_chars += 1\n",
    "    # if more than three non-standard characters, app is likely not in English\n",
    "    if non_english_chars > 3: return False\n",
    "    return True\n",
    "\n",
    "print(is_english('Instagram'))\n",
    "print(is_english('爱奇艺PPS -《欢乐颂2》电视剧热播'))\n",
    "print(is_english('Docs To Go™ Free Office Suite'))\n",
    "print(is_english('Instachat 😜'))"
   ]
  },
  {
   "cell_type": "markdown",
   "metadata": {},
   "source": [
    "Now, we'll define a function to loop through our datasets to collect all the English-language apps in each dataset and compile them into lists."
   ]
  },
  {
   "cell_type": "code",
   "execution_count": 17,
   "metadata": {},
   "outputs": [
    {
     "name": "stdout",
     "output_type": "stream",
     "text": [
      "6183 10795\n",
      "7197 10840\n"
     ]
    }
   ],
   "source": [
    "def find_english(dataset, name):\n",
    "    english_apps = []\n",
    "    for row in dataset:\n",
    "        if is_english(row[name]):\n",
    "            english_apps.append(row)\n",
    "    return english_apps\n",
    "\n",
    "english_ios = find_english(ios_data, 1)\n",
    "english_android = find_english(android_data, 0)\n",
    "# compare numbers of apps in English-language subsets and full datasets\n",
    "print(len(english_ios), len(english_android))\n",
    "print(len(ios_data), len(android_data))"
   ]
  },
  {
   "cell_type": "markdown",
   "metadata": {},
   "source": [
    "Next, we'll follow a similar procedure to identify free apps. As before, we'll loop through each dataset, append free apps to a list, and "
   ]
  },
  {
   "cell_type": "code",
   "execution_count": 18,
   "metadata": {},
   "outputs": [
    {
     "name": "stdout",
     "output_type": "stream",
     "text": [
      "3222 9999\n",
      "7197 10840\n"
     ]
    }
   ],
   "source": [
    "def find_free(dataset, price):\n",
    "    free_apps = []\n",
    "    for row in dataset:\n",
    "        # prices stored as '0.0' in iOS dataset and '0' in Android dataset\n",
    "        if row[price] == '0.0' or row[price] == '0':\n",
    "            free_apps.append(row)\n",
    "    return free_apps\n",
    "\n",
    "free_ios = find_free(english_ios, 4)\n",
    "free_android = find_free(english_android, 7)\n",
    "# compare numbers of apps in free subsets and full datasets\n",
    "print(len(free_ios), len(free_android))\n",
    "print(len(ios_data), len(android_data))"
   ]
  },
  {
   "cell_type": "markdown",
   "metadata": {},
   "source": [
    "Our validation strategy for an app idea has three steps:\n",
    "1. Build a minimal Android version of the app and add it to the Google Play Store.  \n",
    "2. If the app receives a good response from users, we develop it further.  \n",
    "3. If the app is profitable after six months, we build an iOS version of the app and add it to the App Store.\n",
    "\n",
    "Ideally, we want to find apps that will be profitable in both markets.\n",
    "\n",
    "Next, we'll inspect each dataset and identify the columns that could be used to generate frequency tables to determine the most common genres in each market. For iOS, that appears to be the `prime_genre` column (index `12`), while for the Android dataset, the relevant columns appear to be `Category` (index `1`) and `Genres` (index `9`)."
   ]
  },
  {
   "cell_type": "markdown",
   "metadata": {},
   "source": [
    "In the below cell, we'll define two functions. We can use the first function (`freq_table()`) to create a frequency table of the genres in each dataset, and we can use the second (`display_table()`) to make that frequency table more interpretable. Specifically, the `display_table()` function saves each key–value pair as a tuple, adds each tuple to a list, sorts that list in descending order, and presents the information in a readable format."
   ]
  },
  {
   "cell_type": "code",
   "execution_count": 19,
   "metadata": {},
   "outputs": [],
   "source": [
    "def freq_table(dataset, index):\n",
    "    table = {}\n",
    "    total = 0\n",
    "    for row in dataset:\n",
    "        total += 1\n",
    "        value = row[index]\n",
    "        if value in table:\n",
    "            table[value] += 1\n",
    "        else:\n",
    "            table[value] = 1\n",
    "    table_percentages = {}\n",
    "    for key in table:\n",
    "        # calculate percentage and round to two digits\n",
    "        percentage = round((table[key] / total) * 100, 2)\n",
    "        table_percentages[key] = percentage \n",
    "    return table_percentages\n",
    "\n",
    "def display_table(dataset, index):\n",
    "    table = freq_table(dataset, index)\n",
    "    table_display = []\n",
    "    for key in table:\n",
    "        key_val_as_tuple = (table[key], key)\n",
    "        table_display.append(key_val_as_tuple)\n",
    "    table_sorted = sorted(table_display, reverse = True)\n",
    "    for entry in table_sorted:\n",
    "        print(entry[1], ':', entry[0])"
   ]
  },
  {
   "cell_type": "markdown",
   "metadata": {},
   "source": [
    "The most common iOS genre by far is games (58.16%), followed by entertainment (7.88%). Other genres are all less than 5%, and most are less than 3%. The majority of apps appear to be designed for entertainment purposes (e.g., games, social networking, music) rather than practical purposes (e.g., education, utilities, productivity). \n",
    "\n",
    "Based on the above, it seems that games are the most popular type of app on the App Store. However, that doesn't necessarily mean that they're the most profitable or have the most users. On the contrary, it might be better to develop an app in a less crowded category to minimize competition and increase the chances that our app will show up in users' searches; we'll need more information to determine the most profitable app profile."
   ]
  },
  {
   "cell_type": "code",
   "execution_count": 20,
   "metadata": {},
   "outputs": [
    {
     "name": "stdout",
     "output_type": "stream",
     "text": [
      "Games : 58.16\n",
      "Entertainment : 7.88\n",
      "Photo & Video : 4.97\n",
      "Education : 3.66\n",
      "Social Networking : 3.29\n",
      "Shopping : 2.61\n",
      "Utilities : 2.51\n",
      "Sports : 2.14\n",
      "Music : 2.05\n",
      "Health & Fitness : 2.02\n",
      "Productivity : 1.74\n",
      "Lifestyle : 1.58\n",
      "News : 1.33\n",
      "Travel : 1.24\n",
      "Finance : 1.12\n",
      "Weather : 0.87\n",
      "Food & Drink : 0.81\n",
      "Reference : 0.56\n",
      "Business : 0.53\n",
      "Book : 0.43\n",
      "Navigation : 0.19\n",
      "Medical : 0.19\n",
      "Catalogs : 0.12\n"
     ]
    }
   ],
   "source": [
    "display_table(free_ios, 11)"
   ]
  },
  {
   "cell_type": "markdown",
   "metadata": {},
   "source": [
    "The Android dataset differentiates between category (the broader group of apps to which a given app belongs) and genre (a more niche, specific description of the app's type). The most common Android category is family (17.67%), followed by games (10.59%). Other categories are all less than 8%, and most are less than 4%. The most common genre, however, is tools (7.63%), followed by entertainment (6.0%). Other genres are all roughly 5% or less, and many are less than 1%.\n",
    "\n",
    "As with the iOS data, we'll need more information to determine the most profitable app profile, but in comparison with the App Store market, the categories and genres in the Android Market seem to be much more evenly distributed. There is no dominant genre, and there's a more even spread of entertainment and practical apps."
   ]
  },
  {
   "cell_type": "code",
   "execution_count": 21,
   "metadata": {},
   "outputs": [
    {
     "name": "stdout",
     "output_type": "stream",
     "text": [
      "FAMILY : 17.67\n",
      "GAME : 10.59\n",
      "TOOLS : 7.64\n",
      "BUSINESS : 4.45\n",
      "PRODUCTIVITY : 3.95\n",
      "SPORTS : 3.6\n",
      "LIFESTYLE : 3.59\n",
      "COMMUNICATION : 3.59\n",
      "MEDICAL : 3.54\n",
      "FINANCE : 3.49\n",
      "HEALTH_AND_FITNESS : 3.25\n",
      "PHOTOGRAPHY : 3.12\n",
      "PERSONALIZATION : 3.08\n",
      "SOCIAL : 2.92\n",
      "NEWS_AND_MAGAZINES : 2.77\n",
      "SHOPPING : 2.57\n",
      "TRAVEL_AND_LOCAL : 2.46\n",
      "DATING : 2.27\n",
      "BOOKS_AND_REFERENCE : 1.99\n",
      "VIDEO_PLAYERS : 1.7\n",
      "EDUCATION : 1.51\n",
      "ENTERTAINMENT : 1.47\n",
      "MAPS_AND_NAVIGATION : 1.3\n",
      "FOOD_AND_DRINK : 1.25\n",
      "HOUSE_AND_HOME : 0.88\n",
      "LIBRARIES_AND_DEMO : 0.84\n",
      "AUTO_AND_VEHICLES : 0.82\n",
      "WEATHER : 0.74\n",
      "EVENTS : 0.63\n",
      "ART_AND_DESIGN : 0.61\n",
      "COMICS : 0.59\n",
      "PARENTING : 0.58\n",
      "BEAUTY : 0.53\n"
     ]
    }
   ],
   "source": [
    "display_table(free_android, 1)"
   ]
  },
  {
   "cell_type": "code",
   "execution_count": 22,
   "metadata": {
    "scrolled": false
   },
   "outputs": [
    {
     "name": "stdout",
     "output_type": "stream",
     "text": [
      "Tools : 7.63\n",
      "Entertainment : 6.0\n",
      "Education : 5.13\n",
      "Business : 4.45\n",
      "Productivity : 3.95\n",
      "Sports : 3.74\n",
      "Communication : 3.59\n",
      "Lifestyle : 3.58\n",
      "Medical : 3.54\n",
      "Finance : 3.49\n",
      "Action : 3.41\n",
      "Health & Fitness : 3.25\n",
      "Photography : 3.12\n",
      "Personalization : 3.08\n",
      "Social : 2.92\n",
      "News & Magazines : 2.77\n",
      "Shopping : 2.57\n",
      "Travel & Local : 2.45\n",
      "Dating : 2.27\n",
      "Arcade : 2.0\n",
      "Books & Reference : 1.99\n",
      "Simulation : 1.88\n",
      "Casual : 1.84\n",
      "Video Players & Editors : 1.68\n",
      "Maps & Navigation : 1.3\n",
      "Food & Drink : 1.25\n",
      "Puzzle : 1.21\n",
      "Racing : 0.95\n",
      "Strategy : 0.93\n",
      "House & Home : 0.88\n",
      "Role Playing : 0.87\n",
      "Libraries & Demo : 0.84\n",
      "Auto & Vehicles : 0.82\n",
      "Weather : 0.74\n",
      "Events : 0.63\n",
      "Adventure : 0.62\n",
      "Comics : 0.58\n",
      "Art & Design : 0.54\n",
      "Beauty : 0.53\n",
      "Parenting : 0.44\n",
      "Education;Education : 0.43\n",
      "Card : 0.41\n",
      "Educational;Education : 0.38\n",
      "Casino : 0.38\n",
      "Trivia : 0.37\n",
      "Board : 0.35\n",
      "Educational : 0.33\n",
      "Word : 0.29\n",
      "Entertainment;Music & Video : 0.27\n",
      "Casual;Pretend Play : 0.25\n",
      "Music : 0.21\n",
      "Casual;Action & Adventure : 0.2\n",
      "Racing;Action & Adventure : 0.19\n",
      "Puzzle;Brain Games : 0.17\n",
      "Educational;Pretend Play : 0.14\n",
      "Action;Action & Adventure : 0.14\n",
      "Casual;Brain Games : 0.13\n",
      "Arcade;Action & Adventure : 0.12\n",
      "Simulation;Action & Adventure : 0.11\n",
      "Adventure;Action & Adventure : 0.11\n",
      "Entertainment;Brain Games : 0.08\n",
      "Education;Pretend Play : 0.08\n",
      "Board;Brain Games : 0.08\n",
      "Parenting;Education : 0.07\n",
      "Casual;Creativity : 0.07\n",
      "Art & Design;Creativity : 0.07\n",
      "Role Playing;Action & Adventure : 0.06\n",
      "Parenting;Music & Video : 0.06\n",
      "Educational;Brain Games : 0.06\n",
      "Role Playing;Pretend Play : 0.05\n",
      "Puzzle;Action & Adventure : 0.05\n",
      "Education;Music & Video : 0.05\n",
      "Education;Creativity : 0.05\n",
      "Educational;Action & Adventure : 0.04\n",
      "Education;Brain Games : 0.04\n",
      "Education;Action & Adventure : 0.04\n",
      "Video Players & Editors;Music & Video : 0.03\n",
      "Simulation;Pretend Play : 0.03\n",
      "Entertainment;Creativity : 0.03\n",
      "Entertainment;Action & Adventure : 0.03\n",
      "Educational;Creativity : 0.03\n",
      "Video Players & Editors;Creativity : 0.02\n",
      "Sports;Action & Adventure : 0.02\n",
      "Puzzle;Creativity : 0.02\n",
      "Music;Music & Video : 0.02\n",
      "Entertainment;Pretend Play : 0.02\n",
      "Casual;Music & Video : 0.02\n",
      "Casual;Education : 0.02\n",
      "Board;Action & Adventure : 0.02\n",
      "Art & Design;Pretend Play : 0.02\n",
      "Art & Design;Action & Adventure : 0.02\n",
      "Adventure;Education : 0.02\n",
      "Trivia;Education : 0.01\n",
      "Travel & Local;Action & Adventure : 0.01\n",
      "Tools;Education : 0.01\n",
      "Strategy;Education : 0.01\n",
      "Strategy;Creativity : 0.01\n",
      "Strategy;Action & Adventure : 0.01\n",
      "Simulation;Education : 0.01\n",
      "Role Playing;Brain Games : 0.01\n",
      "Racing;Pretend Play : 0.01\n",
      "Puzzle;Education : 0.01\n",
      "Parenting;Brain Games : 0.01\n",
      "Music & Audio;Music & Video : 0.01\n",
      "Lifestyle;Pretend Play : 0.01\n",
      "Lifestyle;Education : 0.01\n",
      "Health & Fitness;Education : 0.01\n",
      "Health & Fitness;Action & Adventure : 0.01\n",
      "Entertainment;Education : 0.01\n",
      "Communication;Creativity : 0.01\n",
      "Comics;Creativity : 0.01\n",
      "Card;Brain Games : 0.01\n",
      "Card;Action & Adventure : 0.01\n",
      "Books & Reference;Education : 0.01\n",
      "Arcade;Pretend Play : 0.01\n"
     ]
    }
   ],
   "source": [
    "display_table(free_android, 9)"
   ]
  },
  {
   "cell_type": "markdown",
   "metadata": {},
   "source": [
    "Below, we'll create a frequency table for the free iOS app genres. We'll then calculate the average ratings for each genre."
   ]
  },
  {
   "cell_type": "code",
   "execution_count": 23,
   "metadata": {},
   "outputs": [
    {
     "name": "stdout",
     "output_type": "stream",
     "text": [
      "Social Networking 71,548.0\n",
      "Photo & Video 28,442.0\n",
      "Games 22,789.0\n",
      "Music 57,327.0\n",
      "Reference 74,942.0\n",
      "Health & Fitness 23,298.0\n",
      "Weather 52,280.0\n",
      "Utilities 18,684.0\n",
      "Travel 28,244.0\n",
      "Shopping 26,920.0\n",
      "News 21,248.0\n",
      "Navigation 86,090.0\n",
      "Lifestyle 16,486.0\n",
      "Entertainment 14,030.0\n",
      "Food & Drink 33,334.0\n",
      "Sports 23,009.0\n",
      "Book 39,758.0\n",
      "Finance 31,468.0\n",
      "Education 7,004.0\n",
      "Productivity 21,028.0\n",
      "Business 7,491.0\n",
      "Catalogs 4,004.0\n",
      "Medical 612.0\n"
     ]
    }
   ],
   "source": [
    "genres_ios = freq_table(free_ios, 11)\n",
    "for genre in genres_ios:\n",
    "    total = 0\n",
    "    len_genre = 0\n",
    "    for row in free_ios:\n",
    "        genre_app = row[11]\n",
    "        if genre_app == genre:\n",
    "            user_ratings = float(row[5])\n",
    "            total += user_ratings\n",
    "            len_genre += 1\n",
    "    # round to even number, add comma separators for readability\n",
    "    avg_ratings = \"{:,}\".format(round((total / len_genre), 0))\n",
    "    print(genre, avg_ratings)"
   ]
  },
  {
   "cell_type": "markdown",
   "metadata": {},
   "source": [
    "The genres with the greatest number of average user ratings are navigation (*n* = 86,090), reference (*n* = 74,942), and social networking (*n* = 71,548). Games, despite being the most common genre, have only 22,789 average user ratings.\n",
    "\n",
    "It's likely safe to assume that the high averages for navigation and social networking are due to huge, highly popular apps like Google Maps, Waze, Facebook, and Twitter. Since competing with such dominant apps is a pretty challenging task, it may be a better idea to select a more moderately rated genre like reference, weather, or music. The market for these apps is less crowded, and the apps within them seem to amass a decently high number of user ratings."
   ]
  },
  {
   "cell_type": "markdown",
   "metadata": {},
   "source": [
    "Next, we'll follow the same procedure for the Android dataset."
   ]
  },
  {
   "cell_type": "code",
   "execution_count": 24,
   "metadata": {},
   "outputs": [
    {
     "name": "stdout",
     "output_type": "stream",
     "text": [
      "ART_AND_DESIGN 2,038,051.0\n",
      "AUTO_AND_VEHICLES 647,318.0\n",
      "BEAUTY 513,152.0\n",
      "BOOKS_AND_REFERENCE 9,655,197.0\n",
      "BUSINESS 2,250,454.0\n",
      "COMICS 950,443.0\n",
      "COMMUNICATION 90,935,672.0\n",
      "DATING 1,164,271.0\n",
      "EDUCATION 5,760,596.0\n",
      "ENTERTAINMENT 19,516,735.0\n",
      "EVENTS 253,542.0\n",
      "FINANCE 2,511,356.0\n",
      "FOOD_AND_DRINK 2,190,710.0\n",
      "HEALTH_AND_FITNESS 4,869,226.0\n",
      "HOUSE_AND_HOME 1,917,187.0\n",
      "LIBRARIES_AND_DEMO 749,950.0\n",
      "LIFESTYLE 1,479,957.0\n",
      "GAME 33,111,303.0\n",
      "FAMILY 5,784,095.0\n",
      "MEDICAL 147,563.0\n",
      "SOCIAL 48,184,459.0\n",
      "SHOPPING 12,637,504.0\n",
      "PHOTOGRAPHY 32,321,374.0\n",
      "SPORTS 4,860,919.0\n",
      "TRAVEL_AND_LOCAL 27,921,561.0\n",
      "TOOLS 14,988,277.0\n",
      "PERSONALIZATION 7,533,233.0\n",
      "PRODUCTIVITY 35,885,138.0\n",
      "PARENTING 542,604.0\n",
      "WEATHER 5,747,142.0\n",
      "VIDEO_PLAYERS 36,599,010.0\n",
      "NEWS_AND_MAGAZINES 27,058,831.0\n",
      "MAPS_AND_NAVIGATION 5,569,698.0\n"
     ]
    }
   ],
   "source": [
    "categories_android = freq_table(free_android, 1)\n",
    "for category in categories_android:\n",
    "    total = 0\n",
    "    len_category = 0\n",
    "    for row in free_android:\n",
    "        category_app = row[1]\n",
    "        if category_app == category:\n",
    "            installs = row[5]\n",
    "            # strip non-numeric characters and convert to float\n",
    "            installs = installs.replace('+', '')\n",
    "            installs = installs.replace(',', '')\n",
    "            installs = float(installs)\n",
    "            total += installs\n",
    "            len_category += 1\n",
    "    # round to even number, add comma separators for readability\n",
    "    avg_installs = \"{:,}\".format(round((total / len_category), 0))\n",
    "    print(category, avg_installs)"
   ]
  },
  {
   "cell_type": "markdown",
   "metadata": {},
   "source": [
    "The categories with the greatest number of average user ratings are communication (*n* = 90,935,672), social (*n* = 48,184,459), and video players (*n* = 36,599,010). As above, we can probably assume that the high averages for these apps are for very popular apps like WhatsApp, Messenger, Facebook, and YouTube. The next most popular categories include game (*n* = 33,111,303), photography (*n* = 32,321,374), and entertainment (*n* = 19,516,735). \n",
    "\n",
    "Cross-referencing with our results for the iOS store, and keeping in mind our goal of developing an app that could be popular in both markets, we might consider developing an app in the music, books and reference, or photo and video category."
   ]
  }
 ],
 "metadata": {
  "kernelspec": {
   "display_name": "Python 3",
   "language": "python",
   "name": "python3"
  },
  "language_info": {
   "codemirror_mode": {
    "name": "ipython",
    "version": 3
   },
   "file_extension": ".py",
   "mimetype": "text/x-python",
   "name": "python",
   "nbconvert_exporter": "python",
   "pygments_lexer": "ipython3",
   "version": "3.8.5"
  }
 },
 "nbformat": 4,
 "nbformat_minor": 4
}
