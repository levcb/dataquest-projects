{
 "cells": [
  {
   "cell_type": "markdown",
   "metadata": {},
   "source": [
    "# Guided Project: Clean and Analyze Employee Exit Surveys\n",
    "\n",
    "This is the guided project for the _Data Cleaning and Analysis_ Dataquest course. In this project, I analyze exit surveys from employees of the Department of Education, Training and Employment (DETE) and the Technical and Further Education (TAFE) institute in Queensland, Australia (available [here](https://data.gov.au/dataset/ds-qld-89970a3b-182b-41ea-aea2-6f9f17b5907e/details?q=exit%20survey) and [here](https://data.gov.au/dataset/ds-qld-fe96ff30-d157-4a81-851d-215f2a0fe26d/details?q=exit%20survey), respectively). \n",
    "\n",
    "This project focuses on the following questions:\n",
    "1. Are employees who only worked for the institutes for a short period of time resigning due to some kind of dissatisfaction? What about employees who have been there longer?\n",
    "2. Are younger employees resigning due to some kind of dissatisfaction? What about older employees?\n",
    "\n",
    "Several columns will be particularly important in answering these questions, including the following:\n",
    "\n",
    "| Column Name                                                                 | Dataset | Description                                           |\n",
    "|-----------------------------------------------------------------------------|---------|-------------------------------------------------------|\n",
    "| `ID`                                                                        | DETE    | Unique identifier used to identify survey participant |\n",
    "| `SeparationType`                                                            | DETE    | Reason that participant's employment ended            |\n",
    "| `Cease Date`                                                                | DETE    | Year or month that participant's employment ended     |\n",
    "| `DETE Start Date`                                                           | DETE    | Year that participant's employment began              |\n",
    "| `Age`                                                                       | DETE    | Participant's age                                     |\n",
    "| `Gender`                                                                    | DETE    | Participant's gender                                  |\n",
    "| `Record ID`                                                                 | TAFE    | Unique identifier used to identify survey participant |\n",
    "| `Reason for ceasing employment`                                             | TAFE    | Reason that participant's employment ended            |\n",
    "| `CESSATION YEAR`                                                            | TAFE    | Year that participant's employment ended              |\n",
    "| `LengthofServiceOverall. Overall Length of Service at Institute (in years)` | TAFE    | Length of participant's employment (in years)         |\n",
    "| `CurrentAge. Current Age`                                                   | TAFE    | Participant's age                                     |\n",
    "| `Gender. What is your Gender?`                                              | TAFE    | Participant's gender                                  |"
   ]
  },
  {
   "cell_type": "code",
   "execution_count": 1,
   "metadata": {},
   "outputs": [
    {
     "name": "stdout",
     "output_type": "stream",
     "text": [
      "<class 'pandas.core.frame.DataFrame'>\n",
      "RangeIndex: 822 entries, 0 to 821\n",
      "Data columns (total 56 columns):\n",
      " #   Column                               Non-Null Count  Dtype \n",
      "---  ------                               --------------  ----- \n",
      " 0   ID                                   822 non-null    int64 \n",
      " 1   SeparationType                       822 non-null    object\n",
      " 2   Cease Date                           822 non-null    object\n",
      " 3   DETE Start Date                      822 non-null    object\n",
      " 4   Role Start Date                      822 non-null    object\n",
      " 5   Position                             817 non-null    object\n",
      " 6   Classification                       455 non-null    object\n",
      " 7   Region                               822 non-null    object\n",
      " 8   Business Unit                        126 non-null    object\n",
      " 9   Employment Status                    817 non-null    object\n",
      " 10  Career move to public sector         822 non-null    bool  \n",
      " 11  Career move to private sector        822 non-null    bool  \n",
      " 12  Interpersonal conflicts              822 non-null    bool  \n",
      " 13  Job dissatisfaction                  822 non-null    bool  \n",
      " 14  Dissatisfaction with the department  822 non-null    bool  \n",
      " 15  Physical work environment            822 non-null    bool  \n",
      " 16  Lack of recognition                  822 non-null    bool  \n",
      " 17  Lack of job security                 822 non-null    bool  \n",
      " 18  Work location                        822 non-null    bool  \n",
      " 19  Employment conditions                822 non-null    bool  \n",
      " 20  Maternity/family                     822 non-null    bool  \n",
      " 21  Relocation                           822 non-null    bool  \n",
      " 22  Study/Travel                         822 non-null    bool  \n",
      " 23  Ill Health                           822 non-null    bool  \n",
      " 24  Traumatic incident                   822 non-null    bool  \n",
      " 25  Work life balance                    822 non-null    bool  \n",
      " 26  Workload                             822 non-null    bool  \n",
      " 27  None of the above                    822 non-null    bool  \n",
      " 28  Professional Development             808 non-null    object\n",
      " 29  Opportunities for promotion          735 non-null    object\n",
      " 30  Staff morale                         816 non-null    object\n",
      " 31  Workplace issue                      788 non-null    object\n",
      " 32  Physical environment                 817 non-null    object\n",
      " 33  Worklife balance                     815 non-null    object\n",
      " 34  Stress and pressure support          810 non-null    object\n",
      " 35  Performance of supervisor            813 non-null    object\n",
      " 36  Peer support                         812 non-null    object\n",
      " 37  Initiative                           813 non-null    object\n",
      " 38  Skills                               811 non-null    object\n",
      " 39  Coach                                767 non-null    object\n",
      " 40  Career Aspirations                   746 non-null    object\n",
      " 41  Feedback                             792 non-null    object\n",
      " 42  Further PD                           768 non-null    object\n",
      " 43  Communication                        814 non-null    object\n",
      " 44  My say                               812 non-null    object\n",
      " 45  Information                          816 non-null    object\n",
      " 46  Kept informed                        813 non-null    object\n",
      " 47  Wellness programs                    766 non-null    object\n",
      " 48  Health & Safety                      793 non-null    object\n",
      " 49  Gender                               798 non-null    object\n",
      " 50  Age                                  811 non-null    object\n",
      " 51  Aboriginal                           16 non-null     object\n",
      " 52  Torres Strait                        3 non-null      object\n",
      " 53  South Sea                            7 non-null      object\n",
      " 54  Disability                           23 non-null     object\n",
      " 55  NESB                                 32 non-null     object\n",
      "dtypes: bool(18), int64(1), object(37)\n",
      "memory usage: 258.6+ KB\n",
      "None\n",
      "   ID                    SeparationType Cease Date DETE Start Date  \\\n",
      "0   1             Ill Health Retirement    08/2012            1984   \n",
      "1   2  Voluntary Early Retirement (VER)    08/2012      Not Stated   \n",
      "2   3  Voluntary Early Retirement (VER)    05/2012            2011   \n",
      "3   4         Resignation-Other reasons    05/2012            2005   \n",
      "4   5                    Age Retirement    05/2012            1970   \n",
      "\n",
      "  Role Start Date                                      Position  \\\n",
      "0            2004                                Public Servant   \n",
      "1      Not Stated                                Public Servant   \n",
      "2            2011                               Schools Officer   \n",
      "3            2006                                       Teacher   \n",
      "4            1989  Head of Curriculum/Head of Special Education   \n",
      "\n",
      "  Classification              Region                      Business Unit  \\\n",
      "0        A01-A04      Central Office  Corporate Strategy and Peformance   \n",
      "1        AO5-AO7      Central Office  Corporate Strategy and Peformance   \n",
      "2            NaN      Central Office               Education Queensland   \n",
      "3        Primary  Central Queensland                                NaN   \n",
      "4            NaN          South East                                NaN   \n",
      "\n",
      "     Employment Status  ...  Kept informed  Wellness programs  \\\n",
      "0  Permanent Full-time  ...              N                  N   \n",
      "1  Permanent Full-time  ...              N                  N   \n",
      "2  Permanent Full-time  ...              N                  N   \n",
      "3  Permanent Full-time  ...              A                  N   \n",
      "4  Permanent Full-time  ...              N                  A   \n",
      "\n",
      "   Health & Safety  Gender          Age  Aboriginal  Torres Strait  South Sea  \\\n",
      "0                N    Male        56-60         NaN            NaN        NaN   \n",
      "1                N    Male        56-60         NaN            NaN        NaN   \n",
      "2                N    Male  61 or older         NaN            NaN        NaN   \n",
      "3                A  Female        36-40         NaN            NaN        NaN   \n",
      "4                M  Female  61 or older         NaN            NaN        NaN   \n",
      "\n",
      "   Disability  NESB  \n",
      "0         NaN   Yes  \n",
      "1         NaN   NaN  \n",
      "2         NaN   NaN  \n",
      "3         NaN   NaN  \n",
      "4         NaN   NaN  \n",
      "\n",
      "[5 rows x 56 columns]\n",
      "<class 'pandas.core.frame.DataFrame'>\n",
      "RangeIndex: 702 entries, 0 to 701\n",
      "Data columns (total 72 columns):\n",
      " #   Column                                                                                                                                                         Non-Null Count  Dtype  \n",
      "---  ------                                                                                                                                                         --------------  -----  \n",
      " 0   Record ID                                                                                                                                                      702 non-null    float64\n",
      " 1   Institute                                                                                                                                                      702 non-null    object \n",
      " 2   WorkArea                                                                                                                                                       702 non-null    object \n",
      " 3   CESSATION YEAR                                                                                                                                                 695 non-null    float64\n",
      " 4   Reason for ceasing employment                                                                                                                                  701 non-null    object \n",
      " 5   Contributing Factors. Career Move - Public Sector                                                                                                              437 non-null    object \n",
      " 6   Contributing Factors. Career Move - Private Sector                                                                                                             437 non-null    object \n",
      " 7   Contributing Factors. Career Move - Self-employment                                                                                                            437 non-null    object \n",
      " 8   Contributing Factors. Ill Health                                                                                                                               437 non-null    object \n",
      " 9   Contributing Factors. Maternity/Family                                                                                                                         437 non-null    object \n",
      " 10  Contributing Factors. Dissatisfaction                                                                                                                          437 non-null    object \n",
      " 11  Contributing Factors. Job Dissatisfaction                                                                                                                      437 non-null    object \n",
      " 12  Contributing Factors. Interpersonal Conflict                                                                                                                   437 non-null    object \n",
      " 13  Contributing Factors. Study                                                                                                                                    437 non-null    object \n",
      " 14  Contributing Factors. Travel                                                                                                                                   437 non-null    object \n",
      " 15  Contributing Factors. Other                                                                                                                                    437 non-null    object \n",
      " 16  Contributing Factors. NONE                                                                                                                                     437 non-null    object \n",
      " 17  Main Factor. Which of these was the main factor for leaving?                                                                                                   113 non-null    object \n",
      " 18  InstituteViews. Topic:1. I feel the senior leadership had a clear vision and direction                                                                         608 non-null    object \n",
      " 19  InstituteViews. Topic:2. I was given access to skills training to help me do my job better                                                                     613 non-null    object \n",
      " 20  InstituteViews. Topic:3. I was given adequate opportunities for personal development                                                                           610 non-null    object \n",
      " 21  InstituteViews. Topic:4. I was given adequate opportunities for promotion within %Institute]Q25LBL%                                                            608 non-null    object \n",
      " 22  InstituteViews. Topic:5. I felt the salary for the job was right for the responsibilities I had                                                                615 non-null    object \n",
      " 23  InstituteViews. Topic:6. The organisation recognised when staff did good work                                                                                  607 non-null    object \n",
      " 24  InstituteViews. Topic:7. Management was generally supportive of me                                                                                             614 non-null    object \n",
      " 25  InstituteViews. Topic:8. Management was generally supportive of my team                                                                                        608 non-null    object \n",
      " 26  InstituteViews. Topic:9. I was kept informed of the changes in the organisation which would affect me                                                          610 non-null    object \n",
      " 27  InstituteViews. Topic:10. Staff morale was positive within the Institute                                                                                       602 non-null    object \n",
      " 28  InstituteViews. Topic:11. If I had a workplace issue it was dealt with quickly                                                                                 601 non-null    object \n",
      " 29  InstituteViews. Topic:12. If I had a workplace issue it was dealt with efficiently                                                                             597 non-null    object \n",
      " 30  InstituteViews. Topic:13. If I had a workplace issue it was dealt with discreetly                                                                              601 non-null    object \n",
      " 31  WorkUnitViews. Topic:14. I was satisfied with the quality of the management and supervision within my work unit                                                609 non-null    object \n",
      " 32  WorkUnitViews. Topic:15. I worked well with my colleagues                                                                                                      605 non-null    object \n",
      " 33  WorkUnitViews. Topic:16. My job was challenging and interesting                                                                                                607 non-null    object \n",
      " 34  WorkUnitViews. Topic:17. I was encouraged to use my initiative in the course of my work                                                                        610 non-null    object \n",
      " 35  WorkUnitViews. Topic:18. I had sufficient contact with other people in my job                                                                                  613 non-null    object \n",
      " 36  WorkUnitViews. Topic:19. I was given adequate support and co-operation by my peers to enable me to do my job                                                   609 non-null    object \n",
      " 37  WorkUnitViews. Topic:20. I was able to use the full range of my skills in my job                                                                               609 non-null    object \n",
      " 38  WorkUnitViews. Topic:21. I was able to use the full range of my abilities in my job. ; Category:Level of Agreement; Question:YOUR VIEWS ABOUT YOUR WORK UNIT]  608 non-null    object \n",
      " 39  WorkUnitViews. Topic:22. I was able to use the full range of my knowledge in my job                                                                            608 non-null    object \n",
      " 40  WorkUnitViews. Topic:23. My job provided sufficient variety                                                                                                    611 non-null    object \n",
      " 41  WorkUnitViews. Topic:24. I was able to cope with the level of stress and pressure in my job                                                                    610 non-null    object \n",
      " 42  WorkUnitViews. Topic:25. My job allowed me to balance the demands of work and family to my satisfaction                                                        611 non-null    object \n",
      " 43  WorkUnitViews. Topic:26. My supervisor gave me adequate personal recognition and feedback on my performance                                                    606 non-null    object \n",
      " 44  WorkUnitViews. Topic:27. My working environment was satisfactory e.g. sufficient space, good lighting, suitable seating and working area                       610 non-null    object \n",
      " 45  WorkUnitViews. Topic:28. I was given the opportunity to mentor and coach others in order for me to pass on my skills and knowledge prior to my cessation date  609 non-null    object \n",
      " 46  WorkUnitViews. Topic:29. There was adequate communication between staff in my unit                                                                             603 non-null    object \n",
      " 47  WorkUnitViews. Topic:30. Staff morale was positive within my work unit                                                                                         606 non-null    object \n",
      " 48  Induction. Did you undertake Workplace Induction?                                                                                                              619 non-null    object \n",
      " 49  InductionInfo. Topic:Did you undertake a Corporate Induction?                                                                                                  432 non-null    object \n",
      " 50  InductionInfo. Topic:Did you undertake a Institute Induction?                                                                                                  483 non-null    object \n",
      " 51  InductionInfo. Topic: Did you undertake Team Induction?                                                                                                        440 non-null    object \n",
      " 52  InductionInfo. Face to Face Topic:Did you undertake a Corporate Induction; Category:How it was conducted?                                                      555 non-null    object \n",
      " 53  InductionInfo. On-line Topic:Did you undertake a Corporate Induction; Category:How it was conducted?                                                           555 non-null    object \n",
      " 54  InductionInfo. Induction Manual Topic:Did you undertake a Corporate Induction?                                                                                 555 non-null    object \n",
      " 55  InductionInfo. Face to Face Topic:Did you undertake a Institute Induction?                                                                                     530 non-null    object \n",
      " 56  InductionInfo. On-line Topic:Did you undertake a Institute Induction?                                                                                          555 non-null    object \n",
      " 57  InductionInfo. Induction Manual Topic:Did you undertake a Institute Induction?                                                                                 553 non-null    object \n",
      " 58  InductionInfo. Face to Face Topic: Did you undertake Team Induction; Category?                                                                                 555 non-null    object \n",
      " 59  InductionInfo. On-line Topic: Did you undertake Team Induction?process you undertook and how it was conducted.]                                                555 non-null    object \n",
      " 60  InductionInfo. Induction Manual Topic: Did you undertake Team Induction?                                                                                       555 non-null    object \n",
      " 61  Workplace. Topic:Did you and your Manager develop a Performance and Professional Development Plan (PPDP)?                                                      608 non-null    object \n",
      " 62  Workplace. Topic:Does your workplace promote a work culture free from all forms of unlawful discrimination?                                                    594 non-null    object \n",
      " 63  Workplace. Topic:Does your workplace promote and practice the principles of employment equity?                                                                 587 non-null    object \n",
      " 64  Workplace. Topic:Does your workplace value the diversity of its employees?                                                                                     586 non-null    object \n",
      " 65  Workplace. Topic:Would you recommend the Institute as an employer to others?                                                                                   581 non-null    object \n",
      " 66  Gender. What is your Gender?                                                                                                                                   596 non-null    object \n",
      " 67  CurrentAge. Current Age                                                                                                                                        596 non-null    object \n",
      " 68  Employment Type. Employment Type                                                                                                                               596 non-null    object \n",
      " 69  Classification. Classification                                                                                                                                 596 non-null    object \n",
      " 70  LengthofServiceOverall. Overall Length of Service at Institute (in years)                                                                                      596 non-null    object \n",
      " 71  LengthofServiceCurrent. Length of Service at current workplace (in years)                                                                                      596 non-null    object \n",
      "dtypes: float64(2), object(70)\n",
      "memory usage: 395.0+ KB\n",
      "None\n",
      "      Record ID                              Institute  \\\n",
      "0  6.341330e+17  Southern Queensland Institute of TAFE   \n",
      "1  6.341337e+17            Mount Isa Institute of TAFE   \n",
      "2  6.341388e+17            Mount Isa Institute of TAFE   \n",
      "3  6.341399e+17            Mount Isa Institute of TAFE   \n",
      "4  6.341466e+17  Southern Queensland Institute of TAFE   \n",
      "\n",
      "                   WorkArea  CESSATION YEAR Reason for ceasing employment  \\\n",
      "0  Non-Delivery (corporate)          2010.0              Contract Expired   \n",
      "1  Non-Delivery (corporate)          2010.0                    Retirement   \n",
      "2       Delivery (teaching)          2010.0                    Retirement   \n",
      "3  Non-Delivery (corporate)          2010.0                   Resignation   \n",
      "4       Delivery (teaching)          2010.0                   Resignation   \n",
      "\n",
      "  Contributing Factors. Career Move - Public Sector   \\\n",
      "0                                                NaN   \n",
      "1                                                  -   \n",
      "2                                                  -   \n",
      "3                                                  -   \n",
      "4                                                  -   \n",
      "\n",
      "  Contributing Factors. Career Move - Private Sector   \\\n",
      "0                                                NaN    \n",
      "1                                                  -    \n",
      "2                                                  -    \n",
      "3                                                  -    \n",
      "4                       Career Move - Private Sector    \n",
      "\n",
      "  Contributing Factors. Career Move - Self-employment  \\\n",
      "0                                                NaN    \n",
      "1                                                  -    \n",
      "2                                                  -    \n",
      "3                                                  -    \n",
      "4                                                  -    \n",
      "\n",
      "  Contributing Factors. Ill Health Contributing Factors. Maternity/Family  \\\n",
      "0                              NaN                                    NaN   \n",
      "1                                -                                      -   \n",
      "2                                -                                      -   \n",
      "3                                -                                      -   \n",
      "4                                -                                      -   \n",
      "\n",
      "   ...  \\\n",
      "0  ...   \n",
      "1  ...   \n",
      "2  ...   \n",
      "3  ...   \n",
      "4  ...   \n",
      "\n",
      "  Workplace. Topic:Does your workplace promote a work culture free from all forms of unlawful discrimination?  \\\n",
      "0                                                Yes                                                            \n",
      "1                                                Yes                                                            \n",
      "2                                                Yes                                                            \n",
      "3                                                Yes                                                            \n",
      "4                                                Yes                                                            \n",
      "\n",
      "  Workplace. Topic:Does your workplace promote and practice the principles of employment equity?  \\\n",
      "0                                                Yes                                               \n",
      "1                                                Yes                                               \n",
      "2                                                Yes                                               \n",
      "3                                                Yes                                               \n",
      "4                                                Yes                                               \n",
      "\n",
      "  Workplace. Topic:Does your workplace value the diversity of its employees?  \\\n",
      "0                                                Yes                           \n",
      "1                                                Yes                           \n",
      "2                                                Yes                           \n",
      "3                                                Yes                           \n",
      "4                                                Yes                           \n",
      "\n",
      "  Workplace. Topic:Would you recommend the Institute as an employer to others?  \\\n",
      "0                                                Yes                             \n",
      "1                                                Yes                             \n",
      "2                                                Yes                             \n",
      "3                                                Yes                             \n",
      "4                                                Yes                             \n",
      "\n",
      "  Gender. What is your Gender? CurrentAge. Current Age  \\\n",
      "0                       Female                  26  30   \n",
      "1                          NaN                     NaN   \n",
      "2                          NaN                     NaN   \n",
      "3                          NaN                     NaN   \n",
      "4                         Male                  41  45   \n",
      "\n",
      "  Employment Type. Employment Type Classification. Classification  \\\n",
      "0              Temporary Full-time            Administration (AO)   \n",
      "1                              NaN                            NaN   \n",
      "2                              NaN                            NaN   \n",
      "3                              NaN                            NaN   \n",
      "4              Permanent Full-time        Teacher (including LVT)   \n",
      "\n",
      "  LengthofServiceOverall. Overall Length of Service at Institute (in years)  \\\n",
      "0                                                1-2                          \n",
      "1                                                NaN                          \n",
      "2                                                NaN                          \n",
      "3                                                NaN                          \n",
      "4                                                3-4                          \n",
      "\n",
      "  LengthofServiceCurrent. Length of Service at current workplace (in years)  \n",
      "0                                                1-2                         \n",
      "1                                                NaN                         \n",
      "2                                                NaN                         \n",
      "3                                                NaN                         \n",
      "4                                                3-4                         \n",
      "\n",
      "[5 rows x 72 columns]\n"
     ]
    }
   ],
   "source": [
    "# ensure plots display inline\n",
    "%matplotlib inline\n",
    "# import libraries\n",
    "import numpy as np\n",
    "import pandas as pd\n",
    "import matplotlib.pyplot as plt\n",
    "# read in datasets\n",
    "dete_survey = pd.read_csv('dete_survey.csv')\n",
    "tafe_survey = pd.read_csv('tafe_survey.csv')\n",
    "# print information about and first five rows of each dataset\n",
    "print(dete_survey.info())\n",
    "print(dete_survey.head())\n",
    "print(tafe_survey.info())\n",
    "print(tafe_survey.head())"
   ]
  },
  {
   "cell_type": "markdown",
   "metadata": {},
   "source": [
    "It's clear from the above that each dataset contains many columns (56 and 72, respectively) that aren't necessary to complete our analysis. In addition, while both datasets have columns that offer the same or similar information (e.g., ID number or reason for ceasing employment), the columns are named differently.\n",
    "\n",
    "Some columns also have quite lengthy, unwieldy names, particularly in the TAFE dataset (e.g., column 39, which is titled `\"WorkUnitViews. Topic:22. I was able to use the full range of my knowledge in my job\"`). Based on the format of these column names, it appears that they may have been directly copied from questions in the exit survey. Many of these columns won't be relevant for this project's analysis, but some will (such as the age and gender columns)—to make the dataset easier to examine, it may be helpful to rename these columns."
   ]
  },
  {
   "cell_type": "code",
   "execution_count": 2,
   "metadata": {},
   "outputs": [
    {
     "name": "stdout",
     "output_type": "stream",
     "text": [
      "Missing values in ID column (DETE): 0\n",
      "Missing values in SeparationType column (DETE): 0\n",
      "Missing values in Cease Date column (DETE): 0\n",
      "Missing values in DETE Start Date column (DETE): 0\n",
      "Missing values in Age column (DETE): 11\n",
      "Missing values in Gender column (DETE): 24\n",
      "Missing values in Record ID column (TAFE): 0\n",
      "Missing values in Reason for Ceasing Employment column (TAFE): 1\n",
      "Missing values in Cessation Year column (TAFE): 7\n",
      "Missing values in Length of Service column (TAFE): 106\n",
      "Missing values in Age column (TAFE): 106\n",
      "Missing values in Gender column (TAFE): 106\n"
     ]
    }
   ],
   "source": [
    "# print missing values for key columns\n",
    "print('Missing values in ID column (DETE): ' + str(dete_survey['ID'].isnull().sum()))\n",
    "print('Missing values in SeparationType column (DETE): '\n",
    "      + str(dete_survey['SeparationType'].isnull().sum()))\n",
    "print('Missing values in Cease Date column (DETE): '\n",
    "      + str(dete_survey['Cease Date'].isnull().sum()))\n",
    "print('Missing values in DETE Start Date column (DETE): '\n",
    "      + str(dete_survey['DETE Start Date'].isnull().sum()))\n",
    "print('Missing values in Age column (DETE): '\n",
    "      + str(dete_survey['Age'].isnull().sum()))\n",
    "print('Missing values in Gender column (DETE): '\n",
    "      + str(dete_survey['Gender'].isnull().sum()))\n",
    "print('Missing values in Record ID column (TAFE): '\n",
    "      + str(tafe_survey['Record ID'].isnull().sum()))\n",
    "print('Missing values in Reason for Ceasing Employment column (TAFE): '\n",
    "      + str(tafe_survey['Reason for ceasing employment'].isnull().sum()))\n",
    "print('Missing values in Cessation Year column (TAFE): '\n",
    "      + str(tafe_survey['CESSATION YEAR'].isnull().sum()))\n",
    "print('Missing values in Length of Service column (TAFE): '\n",
    "      + str(tafe_survey['LengthofServiceOverall. Overall Length of Service at Institute (in years)'].isnull().sum()))\n",
    "print('Missing values in Age column (TAFE): '\n",
    "      + str(tafe_survey['CurrentAge. Current Age'].isnull().sum()))\n",
    "print('Missing values in Gender column (TAFE): '\n",
    "      + str(tafe_survey['Gender. What is your Gender?'].isnull().sum()))"
   ]
  },
  {
   "cell_type": "markdown",
   "metadata": {},
   "source": [
    "As shown above, the age and gender columns in both datasets have missing values. There are also missing values for other columns in the TAFE dataset, namely reason for ceasing employment (only one null value), cessation year (seven null values), and length of service (106 missing values).\n",
    "\n",
    "It's worth noting that the age, gender, and length of service columns in the TAFE dataset have the same number of missing values (106), indicating that there may be issues with the same rows in this dataset."
   ]
  },
  {
   "cell_type": "code",
   "execution_count": 3,
   "metadata": {},
   "outputs": [
    {
     "name": "stdout",
     "output_type": "stream",
     "text": [
      "Separation Type (DETE) Value Counts\n",
      "Age Retirement                          285\n",
      "Resignation-Other reasons               150\n",
      "Resignation-Other employer               91\n",
      "Resignation-Move overseas/interstate     70\n",
      "Voluntary Early Retirement (VER)         67\n",
      "Ill Health Retirement                    61\n",
      "Other                                    49\n",
      "Contract Expired                         34\n",
      "Termination                              15\n",
      "Name: SeparationType, dtype: int64\n",
      "Cease Date (DETE) Value Counts\n",
      "2012          344\n",
      "2013          200\n",
      "01/2014        43\n",
      "12/2013        40\n",
      "09/2013        34\n",
      "Not Stated     34\n",
      "06/2013        27\n",
      "07/2013        22\n",
      "10/2013        20\n",
      "11/2013        16\n",
      "08/2013        12\n",
      "05/2013         7\n",
      "05/2012         6\n",
      "04/2013         2\n",
      "02/2014         2\n",
      "04/2014         2\n",
      "07/2014         2\n",
      "08/2012         2\n",
      "11/2012         1\n",
      "07/2012         1\n",
      "09/2010         1\n",
      "07/2006         1\n",
      "2010            1\n",
      "2014            1\n",
      "09/2014         1\n",
      "Name: Cease Date, dtype: int64\n",
      "Start Date (DETE) Value Counts\n",
      "Not Stated    73\n",
      "2011          40\n",
      "2007          34\n",
      "2008          31\n",
      "2012          27\n",
      "2010          27\n",
      "2009          24\n",
      "2006          23\n",
      "1970          21\n",
      "2013          21\n",
      "1975          21\n",
      "1990          20\n",
      "2005          20\n",
      "1996          19\n",
      "1999          19\n",
      "2004          18\n",
      "2000          18\n",
      "1991          18\n",
      "1992          18\n",
      "1989          17\n",
      "1976          15\n",
      "2003          15\n",
      "2002          15\n",
      "1978          15\n",
      "1988          15\n",
      "1997          14\n",
      "1998          14\n",
      "1974          14\n",
      "1979          14\n",
      "1980          14\n",
      "1995          14\n",
      "1993          13\n",
      "1972          12\n",
      "1986          12\n",
      "1977          11\n",
      "1994          10\n",
      "1971          10\n",
      "1969          10\n",
      "1984          10\n",
      "2001          10\n",
      "1983           9\n",
      "1981           9\n",
      "1985           8\n",
      "1973           8\n",
      "1987           7\n",
      "1982           4\n",
      "1963           4\n",
      "1968           3\n",
      "1967           2\n",
      "1965           1\n",
      "1966           1\n",
      "Name: DETE Start Date, dtype: int64\n",
      "Age (DETE) Value Counts\n",
      "61 or older      222\n",
      "56-60            174\n",
      "51-55            103\n",
      "46-50             63\n",
      "41-45             61\n",
      "26-30             57\n",
      "36-40             51\n",
      "21-25             40\n",
      "31-35             39\n",
      "20 or younger      1\n",
      "Name: Age, dtype: int64\n",
      "Gender (DETE) Value Counts\n",
      "Female    573\n",
      "Male      225\n",
      "Name: Gender, dtype: int64\n"
     ]
    }
   ],
   "source": [
    "# value counts for key columns in DETE dataset\n",
    "print('Separation Type (DETE) Value Counts')\n",
    "print(dete_survey['SeparationType'].value_counts())\n",
    "print('Cease Date (DETE) Value Counts')\n",
    "print(dete_survey['Cease Date'].value_counts())\n",
    "print('Start Date (DETE) Value Counts')\n",
    "print(dete_survey['DETE Start Date'].value_counts())\n",
    "print('Age (DETE) Value Counts')\n",
    "print(dete_survey['Age'].value_counts())\n",
    "print('Gender (DETE) Value Counts')\n",
    "print(dete_survey['Gender'].value_counts())"
   ]
  },
  {
   "cell_type": "markdown",
   "metadata": {},
   "source": [
    "As shown above, the most common reason for ceasing employment in the DETE dataset is reaching retirement age. Consistent with this, the majority of employees are over the age of 50 (and many over the age of 60) at the time of their exit survey. In addition, there are roughly 2.5 times more women than men in the dataset.\n",
    "\n",
    "In the cease date column, date formats vary a bit—some only year, others month/year. Cease dates range from 2010 to 2014 (the vast majority in 2012 and 2013), with the exception of one respondent whose employment ended in 2006. In addition, 34 respondents are listed as \"not stated,\" indicating that they should be counted as missing values, as well.\n",
    "\n",
    "Similarly, the most common value in the start date column is \"not stated\" (73). Other than that, many participants started working at DETE after 2000."
   ]
  },
  {
   "cell_type": "code",
   "execution_count": 4,
   "metadata": {
    "scrolled": true
   },
   "outputs": [
    {
     "name": "stdout",
     "output_type": "stream",
     "text": [
      "Reason for Ceasing Employment (TAFE) Value Counts\n",
      "Resignation                 340\n",
      "Contract Expired            127\n",
      "Retrenchment/ Redundancy    104\n",
      "Retirement                   82\n",
      "Transfer                     25\n",
      "Termination                  23\n",
      "Name: Reason for ceasing employment, dtype: int64\n",
      "Cessation Year (TAFE) Value Counts\n",
      "2011.0    268\n",
      "2012.0    235\n",
      "2010.0    103\n",
      "2013.0     85\n",
      "2009.0      4\n",
      "Name: CESSATION YEAR, dtype: int64\n",
      "Length of Service (TAFE) Value Counts\n",
      "Less than 1 year      147\n",
      "1-2                   102\n",
      "3-4                    96\n",
      "11-20                  89\n",
      "More than 20 years     71\n",
      "5-6                    48\n",
      "7-10                   43\n",
      "Name: LengthofServiceOverall. Overall Length of Service at Institute (in years), dtype: int64\n",
      "Age (TAFE) Value Counts\n",
      "56 or older      162\n",
      "51-55             82\n",
      "41  45            80\n",
      "46  50            59\n",
      "31  35            52\n",
      "36  40            51\n",
      "26  30            50\n",
      "21  25            44\n",
      "20 or younger     16\n",
      "Name: CurrentAge. Current Age, dtype: int64\n",
      "Gender (TAFE) Value Counts\n",
      "Female    389\n",
      "Male      207\n",
      "Name: Gender. What is your Gender?, dtype: int64\n"
     ]
    }
   ],
   "source": [
    "# value counts for key columns in TAFE dataset\n",
    "print('Reason for Ceasing Employment (TAFE) Value Counts')\n",
    "print(tafe_survey['Reason for ceasing employment'].value_counts())\n",
    "print('Cessation Year (TAFE) Value Counts')\n",
    "print(tafe_survey['CESSATION YEAR'].value_counts())\n",
    "print('Length of Service (TAFE) Value Counts')\n",
    "print(tafe_survey['LengthofServiceOverall. Overall Length of Service at Institute (in years)'].value_counts())\n",
    "print('Age (TAFE) Value Counts')\n",
    "print(tafe_survey['CurrentAge. Current Age'].value_counts())\n",
    "print('Gender (TAFE) Value Counts')\n",
    "print(tafe_survey['Gender. What is your Gender?'].value_counts())"
   ]
  },
  {
   "cell_type": "markdown",
   "metadata": {},
   "source": [
    "In contrast to the DETE dataset, the most common reason for ceasing employment in the TAFE dataset is resignation. The most common length of employments are less than one year and one to two years; the least common lengths of employments appear to be medium-length terms (between five and 10 years). The distribution of cessation years here resembles that in the DETE dataset, albeit with a slightly smaller spread: Almost all participants stopped working at TAFE betweeen 2010 and 2013, with a handful in 2009.\n",
    "\n",
    "As in the DETE dataset, female employees outnumber male employees (though less drastically), and employees are generally older at the time of their exit interview. The two datasets do, however, use different age brackets; for instance, in the TAFE dataset, there's only one cohort aged 56 or older, whereas the DETE dataset further breaks down this age group into those aged 56–60 and those aged 61 or older."
   ]
  },
  {
   "cell_type": "markdown",
   "metadata": {},
   "source": [
    "I'll now re-read the `csv` files into pandas, but this time treating \"Not Stated\" values as `NaN`. I'll also drop some of the columns that won't be used in the analysis in order to make these dataframes easier to work with."
   ]
  },
  {
   "cell_type": "code",
   "execution_count": 5,
   "metadata": {},
   "outputs": [],
   "source": [
    "# re-read files into pandas, treating 'Not Stated' values as NaN\n",
    "dete_survey = pd.read_csv('dete_survey.csv', na_values='Not Stated')\n",
    "tafe_survey = pd.read_csv('tafe_survey.csv', na_values='Not Stated')\n",
    "# drop unused columns\n",
    "dete_survey_updated = dete_survey.drop(dete_survey.columns[28:49], axis=1)\n",
    "tafe_survey_updated = tafe_survey.drop(tafe_survey.columns[17:66], axis=1)"
   ]
  },
  {
   "cell_type": "markdown",
   "metadata": {},
   "source": [
    "Next, I'll rename the column names in each dataset. The goal here is twofold. First, the column names should be easier to read and to incorporate into code (for instance, getting rid of the unwieldy column names for age and gender in the TAFE dataset). Second, the names of columns in different datasets that provide the same information should be standardized so that the datasets can be more easily compared and combined."
   ]
  },
  {
   "cell_type": "code",
   "execution_count": 6,
   "metadata": {},
   "outputs": [
    {
     "name": "stdout",
     "output_type": "stream",
     "text": [
      "Index(['ID', 'SeparationType', 'Cease Date', 'DETE Start Date',\n",
      "       'Role Start Date', 'Position', 'Classification', 'Region',\n",
      "       'Business Unit', 'Employment Status', 'Career move to public sector',\n",
      "       'Career move to private sector', 'Interpersonal conflicts',\n",
      "       'Job dissatisfaction', 'Dissatisfaction with the department',\n",
      "       'Physical work environment', 'Lack of recognition',\n",
      "       'Lack of job security', 'Work location', 'Employment conditions',\n",
      "       'Maternity/family', 'Relocation', 'Study/Travel', 'Ill Health',\n",
      "       'Traumatic incident', 'Work life balance', 'Workload',\n",
      "       'None of the above', 'Gender', 'Age', 'Aboriginal', 'Torres Strait',\n",
      "       'South Sea', 'Disability', 'NESB'],\n",
      "      dtype='object')\n"
     ]
    }
   ],
   "source": [
    "# print existing column names in updated DETE dataset\n",
    "print(dete_survey_updated.columns)"
   ]
  },
  {
   "cell_type": "code",
   "execution_count": 7,
   "metadata": {},
   "outputs": [
    {
     "name": "stdout",
     "output_type": "stream",
     "text": [
      "Index(['id', 'separation_type', 'cease_date', 'dete_start_date',\n",
      "       'role_start_date', 'position', 'classification', 'region',\n",
      "       'business_unit', 'employment_status', 'career_move_to_public_sector',\n",
      "       'career_move_to_private_sector', 'interpersonal_conflicts',\n",
      "       'job_dissatisfaction', 'dissatisfaction_with_the_department',\n",
      "       'physical_work_environment', 'lack_of_recognition',\n",
      "       'lack_of_job_security', 'work_location', 'employment_conditions',\n",
      "       'maternity_family', 'relocation', 'study_travel', 'ill_health',\n",
      "       'traumatic_incident', 'work_life_balance', 'workload',\n",
      "       'none_of_the_above', 'gender', 'age', 'aboriginal', 'torres_strait',\n",
      "       'south_sea', 'disability', 'nesb'],\n",
      "      dtype='object')\n"
     ]
    }
   ],
   "source": [
    "# strip trailing whitespace, shift all column names to lowercase,\n",
    "# replace slashes and spaces with underscores\n",
    "dete_survey_updated.columns = dete_survey_updated.columns.str.strip().str.lower().str.replace('([/\\s])',  '_')\n",
    "# manually rename separation type column for consistency \n",
    "# as there were no spaces between words in original\n",
    "dete_survey_updated = dete_survey_updated.rename(columns={'separationtype':'separation_type'})\n",
    "# print updated column names\n",
    "print(dete_survey_updated.columns)"
   ]
  },
  {
   "cell_type": "code",
   "execution_count": 8,
   "metadata": {},
   "outputs": [
    {
     "name": "stdout",
     "output_type": "stream",
     "text": [
      "Index(['Record ID', 'Institute', 'WorkArea', 'CESSATION YEAR',\n",
      "       'Reason for ceasing employment',\n",
      "       'Contributing Factors. Career Move - Public Sector ',\n",
      "       'Contributing Factors. Career Move - Private Sector ',\n",
      "       'Contributing Factors. Career Move - Self-employment',\n",
      "       'Contributing Factors. Ill Health',\n",
      "       'Contributing Factors. Maternity/Family',\n",
      "       'Contributing Factors. Dissatisfaction',\n",
      "       'Contributing Factors. Job Dissatisfaction',\n",
      "       'Contributing Factors. Interpersonal Conflict',\n",
      "       'Contributing Factors. Study', 'Contributing Factors. Travel',\n",
      "       'Contributing Factors. Other', 'Contributing Factors. NONE',\n",
      "       'Gender. What is your Gender?', 'CurrentAge. Current Age',\n",
      "       'Employment Type. Employment Type', 'Classification. Classification',\n",
      "       'LengthofServiceOverall. Overall Length of Service at Institute (in years)',\n",
      "       'LengthofServiceCurrent. Length of Service at current workplace (in years)'],\n",
      "      dtype='object')\n"
     ]
    }
   ],
   "source": [
    "# print existing column names in updated TAFE dataset\n",
    "print(tafe_survey_updated.columns)"
   ]
  },
  {
   "cell_type": "code",
   "execution_count": 9,
   "metadata": {},
   "outputs": [
    {
     "name": "stdout",
     "output_type": "stream",
     "text": [
      "Index(['id', 'Institute', 'WorkArea', 'cease_date', 'separation_type',\n",
      "       'Contributing Factors. Career Move - Public Sector ',\n",
      "       'Contributing Factors. Career Move - Private Sector ',\n",
      "       'Contributing Factors. Career Move - Self-employment',\n",
      "       'Contributing Factors. Ill Health',\n",
      "       'Contributing Factors. Maternity/Family',\n",
      "       'Contributing Factors. Dissatisfaction',\n",
      "       'Contributing Factors. Job Dissatisfaction',\n",
      "       'Contributing Factors. Interpersonal Conflict',\n",
      "       'Contributing Factors. Study', 'Contributing Factors. Travel',\n",
      "       'Contributing Factors. Other', 'Contributing Factors. NONE', 'gender',\n",
      "       'age', 'employment_status', 'position', 'institute_service',\n",
      "       'role_service'],\n",
      "      dtype='object')\n"
     ]
    }
   ],
   "source": [
    "# create mapping dictionary for renaming columns\n",
    "tafe_mapper = {'Record ID': 'id', 'CESSATION YEAR': 'cease_date', \n",
    "               'Reason for ceasing employment': 'separation_type',\n",
    "               'Gender. What is your Gender?': 'gender', \n",
    "               'CurrentAge. Current Age': 'age', \n",
    "               'Employment Type. Employment Type': 'employment_status', \n",
    "               'Classification. Classification': 'position', \n",
    "               'LengthofServiceOverall. Overall Length of Service at Institute (in years)': 'institute_service',\n",
    "               'LengthofServiceCurrent. Length of Service at current workplace (in years)': 'role_service'}\n",
    "# apply mapper to columns\n",
    "tafe_survey_updated = tafe_survey_updated.rename(tafe_mapper, axis=1)\n",
    "# print updated column names\n",
    "print(tafe_survey_updated.columns)"
   ]
  },
  {
   "cell_type": "code",
   "execution_count": 10,
   "metadata": {
    "scrolled": true
   },
   "outputs": [
    {
     "name": "stdout",
     "output_type": "stream",
     "text": [
      "First Three Rows of DETE Dataset\n",
      "   id                   separation_type cease_date  dete_start_date  \\\n",
      "0   1             Ill Health Retirement    08/2012           1984.0   \n",
      "1   2  Voluntary Early Retirement (VER)    08/2012              NaN   \n",
      "2   3  Voluntary Early Retirement (VER)    05/2012           2011.0   \n",
      "\n",
      "   role_start_date         position classification          region  \\\n",
      "0           2004.0   Public Servant        A01-A04  Central Office   \n",
      "1              NaN   Public Servant        AO5-AO7  Central Office   \n",
      "2           2011.0  Schools Officer            NaN  Central Office   \n",
      "\n",
      "                       business_unit    employment_status  ...  \\\n",
      "0  Corporate Strategy and Peformance  Permanent Full-time  ...   \n",
      "1  Corporate Strategy and Peformance  Permanent Full-time  ...   \n",
      "2               Education Queensland  Permanent Full-time  ...   \n",
      "\n",
      "   work_life_balance  workload  none_of_the_above  gender          age  \\\n",
      "0              False     False               True    Male        56-60   \n",
      "1              False     False              False    Male        56-60   \n",
      "2              False     False               True    Male  61 or older   \n",
      "\n",
      "   aboriginal  torres_strait  south_sea  disability  nesb  \n",
      "0         NaN            NaN        NaN         NaN   Yes  \n",
      "1         NaN            NaN        NaN         NaN   NaN  \n",
      "2         NaN            NaN        NaN         NaN   NaN  \n",
      "\n",
      "[3 rows x 35 columns]\n",
      "First Three Rows of TAFE Dataset\n",
      "             id                              Institute  \\\n",
      "0  6.341330e+17  Southern Queensland Institute of TAFE   \n",
      "1  6.341337e+17            Mount Isa Institute of TAFE   \n",
      "2  6.341388e+17            Mount Isa Institute of TAFE   \n",
      "\n",
      "                   WorkArea  cease_date   separation_type  \\\n",
      "0  Non-Delivery (corporate)      2010.0  Contract Expired   \n",
      "1  Non-Delivery (corporate)      2010.0        Retirement   \n",
      "2       Delivery (teaching)      2010.0        Retirement   \n",
      "\n",
      "  Contributing Factors. Career Move - Public Sector   \\\n",
      "0                                                NaN   \n",
      "1                                                  -   \n",
      "2                                                  -   \n",
      "\n",
      "  Contributing Factors. Career Move - Private Sector   \\\n",
      "0                                                NaN    \n",
      "1                                                  -    \n",
      "2                                                  -    \n",
      "\n",
      "  Contributing Factors. Career Move - Self-employment  \\\n",
      "0                                                NaN    \n",
      "1                                                  -    \n",
      "2                                                  -    \n",
      "\n",
      "  Contributing Factors. Ill Health Contributing Factors. Maternity/Family  \\\n",
      "0                              NaN                                    NaN   \n",
      "1                                -                                      -   \n",
      "2                                -                                      -   \n",
      "\n",
      "   ... Contributing Factors. Study Contributing Factors. Travel  \\\n",
      "0  ...                         NaN                          NaN   \n",
      "1  ...                           -                       Travel   \n",
      "2  ...                           -                            -   \n",
      "\n",
      "  Contributing Factors. Other Contributing Factors. NONE  gender     age  \\\n",
      "0                         NaN                        NaN  Female  26  30   \n",
      "1                           -                          -     NaN     NaN   \n",
      "2                           -                       NONE     NaN     NaN   \n",
      "\n",
      "     employment_status             position institute_service role_service  \n",
      "0  Temporary Full-time  Administration (AO)               1-2          1-2  \n",
      "1                  NaN                  NaN               NaN          NaN  \n",
      "2                  NaN                  NaN               NaN          NaN  \n",
      "\n",
      "[3 rows x 23 columns]\n"
     ]
    }
   ],
   "source": [
    "# print first few rows of each dataset to confirm changes\n",
    "print('First Three Rows of DETE Dataset')\n",
    "print(dete_survey_updated.head(3))\n",
    "print('First Three Rows of TAFE Dataset')\n",
    "print(tafe_survey_updated.head(3))"
   ]
  },
  {
   "cell_type": "markdown",
   "metadata": {},
   "source": [
    "As previously mentioned, there's some inconsistency in the formatting of dates in the DETE dataset's `cease_date` column. Before moving forward with the analysis, I'll put the data in this column into a uniform format. Since the month isn't included for each data point in the DETE dataset—or for any data point in the TAFE dataset—I'll extract only the year from each row."
   ]
  },
  {
   "cell_type": "code",
   "execution_count": 11,
   "metadata": {},
   "outputs": [
    {
     "name": "stdout",
     "output_type": "stream",
     "text": [
      "Original Unique Values\n",
      "2012       344\n",
      "2013       200\n",
      "01/2014     43\n",
      "12/2013     40\n",
      "09/2013     34\n",
      "06/2013     27\n",
      "07/2013     22\n",
      "10/2013     20\n",
      "11/2013     16\n",
      "08/2013     12\n",
      "05/2013      7\n",
      "05/2012      6\n",
      "04/2014      2\n",
      "02/2014      2\n",
      "04/2013      2\n",
      "07/2014      2\n",
      "08/2012      2\n",
      "07/2012      1\n",
      "11/2012      1\n",
      "09/2010      1\n",
      "07/2006      1\n",
      "2010         1\n",
      "2014         1\n",
      "09/2014      1\n",
      "Name: cease_date, dtype: int64\n",
      "Unique Values After Conversion\n",
      "2013.0    380\n",
      "2012.0    354\n",
      "2014.0     51\n",
      "2010.0      2\n",
      "2006.0      1\n",
      "Name: cease_date, dtype: int64\n"
     ]
    }
   ],
   "source": [
    "# view unique values in cease_date column\n",
    "print('Original Unique Values')\n",
    "print(dete_survey_updated['cease_date'].value_counts())\n",
    "# extract last four characters of each string (since dates\n",
    "# appear either in YYYY or MM/YYYY format)\n",
    "dete_survey_updated['cease_date'] = dete_survey_updated['cease_date'].str[-4:]\n",
    "# convert year data to floats\n",
    "dete_survey_updated['cease_date'] = dete_survey_updated['cease_date'].astype(float)\n",
    "# view updated unique values in cease_date column\n",
    "print('Unique Values After Conversion')\n",
    "print(dete_survey_updated['cease_date'].value_counts())"
   ]
  },
  {
   "cell_type": "markdown",
   "metadata": {},
   "source": [
    "Given this project's research questions, the employees of primary importance are those who've resigned (as opposed to leaving for other reasons). Accordingly, I'll begin by identifying the different versions of resignations given in the `separation_type` column for each dataset."
   ]
  },
  {
   "cell_type": "code",
   "execution_count": 12,
   "metadata": {},
   "outputs": [
    {
     "name": "stdout",
     "output_type": "stream",
     "text": [
      "Separation Type Value Counts (DETE)\n",
      "Age Retirement                          285\n",
      "Resignation-Other reasons               150\n",
      "Resignation-Other employer               91\n",
      "Resignation-Move overseas/interstate     70\n",
      "Voluntary Early Retirement (VER)         67\n",
      "Ill Health Retirement                    61\n",
      "Other                                    49\n",
      "Contract Expired                         34\n",
      "Termination                              15\n",
      "Name: separation_type, dtype: int64\n",
      "Separation Type Value Counts (TAFE)\n",
      "Resignation                 340\n",
      "Contract Expired            127\n",
      "Retrenchment/ Redundancy    104\n",
      "Retirement                   82\n",
      "Transfer                     25\n",
      "Termination                  23\n",
      "Name: separation_type, dtype: int64\n"
     ]
    }
   ],
   "source": [
    "# obtain value counts for separation_type column in each dataset\n",
    "print('Separation Type Value Counts (DETE)')\n",
    "print(dete_survey_updated['separation_type'].value_counts())\n",
    "print('Separation Type Value Counts (TAFE)')\n",
    "print(tafe_survey_updated['separation_type'].value_counts())"
   ]
  },
  {
   "cell_type": "markdown",
   "metadata": {},
   "source": [
    "As shown above, there's only one resignation category (\"Resignation\") in the TAFE dataset, but there are three sub-categories of resignations in the DETE dataset: \"other employer,\" \"move overseas/interstate,\" and \"other reasons.\" The next step is to isolate the data of employees who have resigned."
   ]
  },
  {
   "cell_type": "code",
   "execution_count": 13,
   "metadata": {},
   "outputs": [
    {
     "name": "stdout",
     "output_type": "stream",
     "text": [
      "Original First Two Rows\n",
      "0               Ill Health Retirement\n",
      "1    Voluntary Early Retirement (VER)\n",
      "Name: separation_type, dtype: object\n",
      "0    Contract Expired\n",
      "1          Retirement\n",
      "Name: separation_type, dtype: object\n",
      "First Two Rows After Isolating Resignation Rows\n",
      "3    Resignation-Other reasons\n",
      "5    Resignation-Other reasons\n",
      "Name: separation_type, dtype: object\n",
      "3    Resignation\n",
      "4    Resignation\n",
      "Name: separation_type, dtype: object\n"
     ]
    }
   ],
   "source": [
    "# create copies of each dataset\n",
    "dete_resignations = dete_survey_updated.copy()\n",
    "tafe_resignations = tafe_survey_updated.copy()\n",
    "# print first couple of rows of each to demonstrate they've been copied\n",
    "print('Original First Two Rows')\n",
    "print(dete_resignations['separation_type'].head(2))\n",
    "print(tafe_resignations['separation_type'].head(2))\n",
    "# isolate data from participants who resigned\n",
    "dete_resignations = dete_resignations.loc[(dete_resignations['separation_type'] == \n",
    "                                           'Resignation-Other reasons') |\n",
    "                                          (dete_resignations['separation_type'] ==\n",
    "                                           'Resignation-Other employer') |\n",
    "                                          (dete_resignations['separation_type'] ==\n",
    "                                           'Resignation-Move overseas/interstate')]\n",
    "tafe_resignations = tafe_resignations.loc[(tafe_resignations['separation_type'] == 'Resignation')]\n",
    "# print first couple of rows of each to demonstrate updates\n",
    "print('First Two Rows After Isolating Resignation Rows')\n",
    "print(dete_resignations['separation_type'].head(2))\n",
    "print(tafe_resignations['separation_type'].head(2))"
   ]
  },
  {
   "cell_type": "markdown",
   "metadata": {},
   "source": [
    "As shown above, the revised datasets now contain only information on those employees who resigned from their positions.\n",
    "\n",
    "Next, I'll check for issues in the data. First, I'll print the unique values in the start and end date columns for each dataset."
   ]
  },
  {
   "cell_type": "code",
   "execution_count": 14,
   "metadata": {
    "scrolled": true
   },
   "outputs": [
    {
     "name": "stdout",
     "output_type": "stream",
     "text": [
      "Unique Values in Start Date Column (DETE)\n",
      "1963.0     1\n",
      "1971.0     1\n",
      "1972.0     1\n",
      "1973.0     1\n",
      "1974.0     2\n",
      "1975.0     1\n",
      "1976.0     2\n",
      "1977.0     1\n",
      "1980.0     5\n",
      "1982.0     1\n",
      "1983.0     2\n",
      "1984.0     1\n",
      "1985.0     3\n",
      "1986.0     3\n",
      "1987.0     1\n",
      "1988.0     4\n",
      "1989.0     4\n",
      "1990.0     5\n",
      "1991.0     4\n",
      "1992.0     6\n",
      "1993.0     5\n",
      "1994.0     6\n",
      "1995.0     4\n",
      "1996.0     6\n",
      "1997.0     5\n",
      "1998.0     6\n",
      "1999.0     8\n",
      "2000.0     9\n",
      "2001.0     3\n",
      "2002.0     6\n",
      "2003.0     6\n",
      "2004.0    14\n",
      "2005.0    15\n",
      "2006.0    13\n",
      "2007.0    21\n",
      "2008.0    22\n",
      "2009.0    13\n",
      "2010.0    17\n",
      "2011.0    24\n",
      "2012.0    21\n",
      "2013.0    10\n",
      "Name: dete_start_date, dtype: int64\n",
      "Unique Values in Cease Date Column (DETE)\n",
      "2006.0      1\n",
      "2010.0      2\n",
      "2012.0    129\n",
      "2013.0    146\n",
      "2014.0     22\n",
      "Name: cease_date, dtype: int64\n",
      "Unique Values in Cease Date Column (TAFE)\n",
      "2009.0      2\n",
      "2010.0     68\n",
      "2011.0    116\n",
      "2012.0     94\n",
      "2013.0     55\n",
      "Name: cease_date, dtype: int64\n"
     ]
    }
   ],
   "source": [
    "# check unique values in start and end date columns for each dataset\n",
    "print('Unique Values in Start Date Column (DETE)')\n",
    "print(dete_resignations['dete_start_date'].value_counts().sort_index())\n",
    "print('Unique Values in Cease Date Column (DETE)')\n",
    "print(dete_resignations['cease_date'].value_counts().sort_index())\n",
    "print('Unique Values in Cease Date Column (TAFE)')\n",
    "print(tafe_resignations['cease_date'].value_counts().sort_index())"
   ]
  },
  {
   "cell_type": "markdown",
   "metadata": {},
   "source": [
    "I'll also create boxplots to visualize each of the above columns in order to more easily identify outlying values."
   ]
  },
  {
   "cell_type": "code",
   "execution_count": 15,
   "metadata": {
    "scrolled": true
   },
   "outputs": [
    {
     "data": {
      "text/plain": [
       "<AxesSubplot:>"
      ]
     },
     "execution_count": 15,
     "metadata": {},
     "output_type": "execute_result"
    },
    {
     "data": {
      "image/png": "[encoded data removed]",
      "text/plain": [
       "<Figure size 432x288 with 1 Axes>"
      ]
     },
     "metadata": {
      "needs_background": "light"
     },
     "output_type": "display_data"
    }
   ],
   "source": [
    "dete_resignations.boxplot(column='dete_start_date')"
   ]
  },
  {
   "cell_type": "markdown",
   "metadata": {},
   "source": [
    "There's one especially outlying value (1963), as well a handful of other values in the 1970s."
   ]
  },
  {
   "cell_type": "code",
   "execution_count": 16,
   "metadata": {},
   "outputs": [
    {
     "data": {
      "text/plain": [
       "<AxesSubplot:>"
      ]
     },
     "execution_count": 16,
     "metadata": {},
     "output_type": "execute_result"
    },
    {
     "data": {
      "image/png": "[encoded data removed]",
      "text/plain": [
       "<Figure size 432x288 with 1 Axes>"
      ]
     },
     "metadata": {
      "needs_background": "light"
     },
     "output_type": "display_data"
    }
   ],
   "source": [
    "dete_resignations.boxplot(column='cease_date')"
   ]
  },
  {
   "cell_type": "markdown",
   "metadata": {},
   "source": [
    "There are two outlying values here: 2006 and 2010."
   ]
  },
  {
   "cell_type": "code",
   "execution_count": 17,
   "metadata": {},
   "outputs": [
    {
     "data": {
      "text/plain": [
       "<AxesSubplot:>"
      ]
     },
     "execution_count": 17,
     "metadata": {},
     "output_type": "execute_result"
    },
    {
     "data": {
      "image/png": "[encoded data removed]",
      "text/plain": [
       "<Figure size 432x288 with 1 Axes>"
      ]
     },
     "metadata": {
      "needs_background": "light"
     },
     "output_type": "display_data"
    }
   ],
   "source": [
    "tafe_resignations.boxplot(column='cease_date')"
   ]
  },
  {
   "cell_type": "markdown",
   "metadata": {},
   "source": [
    "There's one outlying value here: 2009.\n",
    "\n",
    "We'll go ahead and drop these outlying rows."
   ]
  },
  {
   "cell_type": "code",
   "execution_count": 18,
   "metadata": {},
   "outputs": [
    {
     "name": "stdout",
     "output_type": "stream",
     "text": [
      "311\n",
      "307\n"
     ]
    }
   ],
   "source": [
    "# select rows of DETE dataset to eliminate\n",
    "dete_rows_to_drop = dete_resignations.loc[(dete_resignations['dete_start_date'] == 1963.0) | \n",
    "                                          (dete_resignations['cease_date'] == 2006.0) |\n",
    "                                          (dete_resignations['cease_date'] == 2010.0)]\n",
    "# print length of dataset\n",
    "print(len(dete_resignations))\n",
    "# drop relevant rows by index\n",
    "dete_resignations = dete_resignations.drop([416, 517, 586, 762])\n",
    "# print length of dataset after updates to confirm deletion\n",
    "print(len(dete_resignations))"
   ]
  },
  {
   "cell_type": "code",
   "execution_count": 19,
   "metadata": {},
   "outputs": [
    {
     "name": "stdout",
     "output_type": "stream",
     "text": [
      "340\n",
      "338\n"
     ]
    }
   ],
   "source": [
    "# select rows of TAFE dataset to eliminate\n",
    "tafe_rows_to_drop = tafe_resignations.loc[(tafe_resignations['cease_date'] == 2009.0)]\n",
    "# print length of dataset\n",
    "print(len(tafe_resignations))\n",
    "# drop relevant rows by index\n",
    "tafe_resignations = tafe_resignations.drop([8, 63])\n",
    "# print length of dataset after updates to confirm deletion\n",
    "print(len(tafe_resignations))"
   ]
  },
  {
   "cell_type": "markdown",
   "metadata": {},
   "source": [
    "Having verified the years in the `dete_resignations` dataframe, I'll now create a new column to answer the first research question (\"Are employees who have only worked for the institutes for a short period of time resigning due to some kind of dissatisfaction? What about employees who have been at the job longer?\"). \n",
    "\n",
    "In the `tafe_resignations` dataframe, there's already a length of service column (`institute_service`), but no such column exists in the `dete_resignations` dataframe. However, since employees' start and end dates are available, those values can be used to calculate length of service and to create a corresponding `institute_service` column in `dete_resignations`."
   ]
  },
  {
   "cell_type": "code",
   "execution_count": 20,
   "metadata": {},
   "outputs": [
    {
     "name": "stdout",
     "output_type": "stream",
     "text": [
      "0.0     19\n",
      "1.0     22\n",
      "2.0     14\n",
      "3.0     19\n",
      "4.0     16\n",
      "5.0     23\n",
      "6.0     17\n",
      "7.0     13\n",
      "8.0      8\n",
      "9.0     14\n",
      "10.0     6\n",
      "11.0     3\n",
      "12.0     6\n",
      "13.0     8\n",
      "14.0     6\n",
      "15.0     7\n",
      "16.0     5\n",
      "17.0     6\n",
      "18.0     5\n",
      "19.0     3\n",
      "20.0     7\n",
      "21.0     3\n",
      "22.0     6\n",
      "23.0     4\n",
      "24.0     4\n",
      "25.0     2\n",
      "26.0     2\n",
      "27.0     1\n",
      "28.0     2\n",
      "29.0     1\n",
      "30.0     2\n",
      "31.0     1\n",
      "32.0     3\n",
      "33.0     1\n",
      "34.0     1\n",
      "35.0     1\n",
      "36.0     2\n",
      "38.0     1\n",
      "39.0     3\n",
      "41.0     1\n",
      "42.0     1\n",
      "Name: institute_service, dtype: int64\n"
     ]
    }
   ],
   "source": [
    "# create service column by subtracting start date from end date\n",
    "dete_resignations['institute_service'] = dete_resignations['cease_date'] - dete_resignations['dete_start_date']\n",
    "# count unique values in new column\n",
    "print(dete_resignations['institute_service'].value_counts().sort_index())"
   ]
  },
  {
   "cell_type": "markdown",
   "metadata": {},
   "source": [
    "Given the research questions for this project, the next step is to create a column for employees who resigned because they were dissatisfied. We'll identify such employees based on the reasons they gave for resignation:\n",
    "\n",
    "- TAFE\n",
    "    - `Contributing Factors. Dissatisfaction`\n",
    "    - `Contributing Factors. Job Dissatisfaction`\n",
    "- DETE\n",
    "    - `job_dissatisfaction`\n",
    "    - `dissatisfaction_with_the_department`\n",
    "    - `physical_work_environment`\n",
    "    - `lack_of_recognition`\n",
    "    - `lack_of_job_security`\n",
    "    - `work_location`\n",
    "    - `employment_conditions`\n",
    "    - `work_life_balance`\n",
    "    - `workload`\n",
    "    \n",
    "We'll start by viewing the values in the relevant columns of the TAFE dataset. (The DETE values are already booleans, so they don't need to be updated.)"
   ]
  },
  {
   "cell_type": "code",
   "execution_count": 21,
   "metadata": {},
   "outputs": [
    {
     "name": "stdout",
     "output_type": "stream",
     "text": [
      "Values for first column:\n",
      "\n",
      "-                                         275\n",
      "Contributing Factors. Dissatisfaction      55\n",
      "Name: Contributing Factors. Dissatisfaction, dtype: int64\n",
      "Values for second column:\n",
      "\n",
      "-                      268\n",
      "Job Dissatisfaction     62\n",
      "Name: Contributing Factors. Job Dissatisfaction, dtype: int64\n"
     ]
    }
   ],
   "source": [
    "# view values in 'Contributing Factors. Dissatisfaction' and \n",
    "# 'Contributing Factors. Job Dissatisfaction' in tafe_resignations\n",
    "print('Values for first column:\\n')\n",
    "print(tafe_resignations['Contributing Factors. Dissatisfaction'].value_counts())\n",
    "print('Values for second column:\\n')\n",
    "print(tafe_resignations['Contributing Factors. Job Dissatisfaction'].value_counts())"
   ]
  },
  {
   "cell_type": "markdown",
   "metadata": {},
   "source": [
    "Next, we'll create a function that updates null values to `NaN`, hyphens to `False`, and anything else to `True`, then apply that function to the TAFE dataset."
   ]
  },
  {
   "cell_type": "code",
   "execution_count": 22,
   "metadata": {},
   "outputs": [],
   "source": [
    "# create function to update values; null --> NaN, - --> False, anything else --> True\n",
    "def update_vals(val):\n",
    "    if pd.isnull(val):\n",
    "        return np.nan\n",
    "    elif val == '-':\n",
    "        return False\n",
    "    else:\n",
    "        return True"
   ]
  },
  {
   "cell_type": "code",
   "execution_count": 23,
   "metadata": {},
   "outputs": [
    {
     "name": "stdout",
     "output_type": "stream",
     "text": [
      "3    False\n",
      "4    False\n",
      "5    False\n",
      "6    False\n",
      "7    False\n",
      "Name: Contributing Factors. Dissatisfaction, dtype: object\n",
      "3    False\n",
      "4    False\n",
      "5    False\n",
      "6    False\n",
      "7    False\n",
      "Name: Contributing Factors. Job Dissatisfaction, dtype: object\n"
     ]
    }
   ],
   "source": [
    "# apply update_vals to relevant columns\n",
    "tafe_resignations[[\"Contributing Factors. Dissatisfaction\", \"Contributing Factors. Job Dissatisfaction\"]] = tafe_resignations[[\"Contributing Factors. Dissatisfaction\", \"Contributing Factors. Job Dissatisfaction\"]].applymap(update_vals)\n",
    "# check updated values\n",
    "print(tafe_resignations['Contributing Factors. Dissatisfaction'].head())\n",
    "print(tafe_resignations['Contributing Factors. Job Dissatisfaction'].head())"
   ]
  },
  {
   "cell_type": "markdown",
   "metadata": {},
   "source": [
    "As we can see from the printed values above, we've successfully converted the values in our two target columns to booleans. Next, we'll create a `dissatisfied` column in both datasets by scanning the dissatisfaction-related columns and extracting their values (retaining `NaN` values)."
   ]
  },
  {
   "cell_type": "code",
   "execution_count": 24,
   "metadata": {},
   "outputs": [
    {
     "name": "stdout",
     "output_type": "stream",
     "text": [
      "3     False\n",
      "5      True\n",
      "8     False\n",
      "9      True\n",
      "11    False\n",
      "Name: dissatisfied, dtype: bool\n",
      "3    False\n",
      "4    False\n",
      "5    False\n",
      "6    False\n",
      "7    False\n",
      "Name: dissatisfied, dtype: object\n"
     ]
    }
   ],
   "source": [
    "# create 'dissatisfied' columm in both datasets\n",
    "dete_resignations['dissatisfied'] = dete_resignations[[\"job_dissatisfaction\", \"dissatisfaction_with_the_department\", \n",
    "            \"physical_work_environment\", \"lack_of_recognition\", \"lack_of_job_security\", \n",
    "            \"work_location\", \"employment_conditions\", \"work_life_balance\", \"workload\"]].any(axis=1, skipna=False)\n",
    "print(dete_resignations['dissatisfied'].head())\n",
    "tafe_resignations['dissatisfied'] = tafe_resignations[[\"Contributing Factors. Dissatisfaction\", \n",
    "                                                       \"Contributing Factors. Job Dissatisfaction\"]].any(axis=1, skipna=False)\n",
    "print(tafe_resignations['dissatisfied'].head())"
   ]
  },
  {
   "cell_type": "code",
   "execution_count": 25,
   "metadata": {},
   "outputs": [],
   "source": [
    "# create copies of each dataset to avoid Setting with Copy warning\n",
    "dete_resignations_up = dete_resignations.copy()\n",
    "tafe_resignations_up = tafe_resignations.copy()"
   ]
  },
  {
   "cell_type": "markdown",
   "metadata": {},
   "source": [
    "So far, we've:\n",
    "- renamed columns;\n",
    "- dropped data not needed for the analysis;\n",
    "- verified data quality;\n",
    "- created `institute_service` and `dissatisfied` columns; and\n",
    "- cleaned the `contributing factors` columns.\n",
    "\n",
    "Next, we'll combine the TAFE and DETE datasets. As a first step, we'll add a column that identifies which of the original datasets a given row belongs to, which we'll title `institute`."
   ]
  },
  {
   "cell_type": "code",
   "execution_count": 26,
   "metadata": {},
   "outputs": [
    {
     "name": "stdout",
     "output_type": "stream",
     "text": [
      "3      DETE\n",
      "5      DETE\n",
      "8      DETE\n",
      "9      DETE\n",
      "11     DETE\n",
      "       ... \n",
      "808    DETE\n",
      "815    DETE\n",
      "816    DETE\n",
      "819    DETE\n",
      "821    DETE\n",
      "Name: institute, Length: 307, dtype: object\n",
      "3      TAFE\n",
      "4      TAFE\n",
      "5      TAFE\n",
      "6      TAFE\n",
      "7      TAFE\n",
      "       ... \n",
      "696    TAFE\n",
      "697    TAFE\n",
      "698    TAFE\n",
      "699    TAFE\n",
      "701    TAFE\n",
      "Name: institute, Length: 338, dtype: object\n"
     ]
    }
   ],
   "source": [
    "# add institute column to DETE and TAFE datasets\n",
    "dete_resignations_up['institute'] = 'DETE'\n",
    "tafe_resignations_up['institute'] = 'TAFE'\n",
    "# check new column addition\n",
    "print(dete_resignations_up['institute'])\n",
    "print(tafe_resignations_up['institute'])"
   ]
  },
  {
   "cell_type": "code",
   "execution_count": 27,
   "metadata": {},
   "outputs": [
    {
     "data": {
      "text/html": [
       "<div>\n",
       "<style scoped>\n",
       "    .dataframe tbody tr th:only-of-type {\n",
       "        vertical-align: middle;\n",
       "    }\n",
       "\n",
       "    .dataframe tbody tr th {\n",
       "        vertical-align: top;\n",
       "    }\n",
       "\n",
       "    .dataframe thead th {\n",
       "        text-align: right;\n",
       "    }\n",
       "</style>\n",
       "<table border=\"1\" class=\"dataframe\">\n",
       "  <thead>\n",
       "    <tr style=\"text-align: right;\">\n",
       "      <th></th>\n",
       "      <th>id</th>\n",
       "      <th>separation_type</th>\n",
       "      <th>cease_date</th>\n",
       "      <th>dete_start_date</th>\n",
       "      <th>role_start_date</th>\n",
       "      <th>position</th>\n",
       "      <th>classification</th>\n",
       "      <th>region</th>\n",
       "      <th>business_unit</th>\n",
       "      <th>employment_status</th>\n",
       "      <th>...</th>\n",
       "      <th>Contributing Factors. Ill Health</th>\n",
       "      <th>Contributing Factors. Maternity/Family</th>\n",
       "      <th>Contributing Factors. Dissatisfaction</th>\n",
       "      <th>Contributing Factors. Job Dissatisfaction</th>\n",
       "      <th>Contributing Factors. Interpersonal Conflict</th>\n",
       "      <th>Contributing Factors. Study</th>\n",
       "      <th>Contributing Factors. Travel</th>\n",
       "      <th>Contributing Factors. Other</th>\n",
       "      <th>Contributing Factors. NONE</th>\n",
       "      <th>role_service</th>\n",
       "    </tr>\n",
       "  </thead>\n",
       "  <tbody>\n",
       "    <tr>\n",
       "      <th>0</th>\n",
       "      <td>4.0</td>\n",
       "      <td>Resignation-Other reasons</td>\n",
       "      <td>2012.0</td>\n",
       "      <td>2005.0</td>\n",
       "      <td>2006.0</td>\n",
       "      <td>Teacher</td>\n",
       "      <td>Primary</td>\n",
       "      <td>Central Queensland</td>\n",
       "      <td>NaN</td>\n",
       "      <td>Permanent Full-time</td>\n",
       "      <td>...</td>\n",
       "      <td>NaN</td>\n",
       "      <td>NaN</td>\n",
       "      <td>NaN</td>\n",
       "      <td>NaN</td>\n",
       "      <td>NaN</td>\n",
       "      <td>NaN</td>\n",
       "      <td>NaN</td>\n",
       "      <td>NaN</td>\n",
       "      <td>NaN</td>\n",
       "      <td>NaN</td>\n",
       "    </tr>\n",
       "    <tr>\n",
       "      <th>1</th>\n",
       "      <td>6.0</td>\n",
       "      <td>Resignation-Other reasons</td>\n",
       "      <td>2012.0</td>\n",
       "      <td>1994.0</td>\n",
       "      <td>1997.0</td>\n",
       "      <td>Guidance Officer</td>\n",
       "      <td>NaN</td>\n",
       "      <td>Central Office</td>\n",
       "      <td>Education Queensland</td>\n",
       "      <td>Permanent Full-time</td>\n",
       "      <td>...</td>\n",
       "      <td>NaN</td>\n",
       "      <td>NaN</td>\n",
       "      <td>NaN</td>\n",
       "      <td>NaN</td>\n",
       "      <td>NaN</td>\n",
       "      <td>NaN</td>\n",
       "      <td>NaN</td>\n",
       "      <td>NaN</td>\n",
       "      <td>NaN</td>\n",
       "      <td>NaN</td>\n",
       "    </tr>\n",
       "    <tr>\n",
       "      <th>2</th>\n",
       "      <td>9.0</td>\n",
       "      <td>Resignation-Other reasons</td>\n",
       "      <td>2012.0</td>\n",
       "      <td>2009.0</td>\n",
       "      <td>2009.0</td>\n",
       "      <td>Teacher</td>\n",
       "      <td>Secondary</td>\n",
       "      <td>North Queensland</td>\n",
       "      <td>NaN</td>\n",
       "      <td>Permanent Full-time</td>\n",
       "      <td>...</td>\n",
       "      <td>NaN</td>\n",
       "      <td>NaN</td>\n",
       "      <td>NaN</td>\n",
       "      <td>NaN</td>\n",
       "      <td>NaN</td>\n",
       "      <td>NaN</td>\n",
       "      <td>NaN</td>\n",
       "      <td>NaN</td>\n",
       "      <td>NaN</td>\n",
       "      <td>NaN</td>\n",
       "    </tr>\n",
       "    <tr>\n",
       "      <th>3</th>\n",
       "      <td>10.0</td>\n",
       "      <td>Resignation-Other employer</td>\n",
       "      <td>2012.0</td>\n",
       "      <td>1997.0</td>\n",
       "      <td>2008.0</td>\n",
       "      <td>Teacher Aide</td>\n",
       "      <td>NaN</td>\n",
       "      <td>NaN</td>\n",
       "      <td>NaN</td>\n",
       "      <td>Permanent Part-time</td>\n",
       "      <td>...</td>\n",
       "      <td>NaN</td>\n",
       "      <td>NaN</td>\n",
       "      <td>NaN</td>\n",
       "      <td>NaN</td>\n",
       "      <td>NaN</td>\n",
       "      <td>NaN</td>\n",
       "      <td>NaN</td>\n",
       "      <td>NaN</td>\n",
       "      <td>NaN</td>\n",
       "      <td>NaN</td>\n",
       "    </tr>\n",
       "    <tr>\n",
       "      <th>4</th>\n",
       "      <td>12.0</td>\n",
       "      <td>Resignation-Move overseas/interstate</td>\n",
       "      <td>2012.0</td>\n",
       "      <td>2009.0</td>\n",
       "      <td>2009.0</td>\n",
       "      <td>Teacher</td>\n",
       "      <td>Secondary</td>\n",
       "      <td>Far North Queensland</td>\n",
       "      <td>NaN</td>\n",
       "      <td>Permanent Full-time</td>\n",
       "      <td>...</td>\n",
       "      <td>NaN</td>\n",
       "      <td>NaN</td>\n",
       "      <td>NaN</td>\n",
       "      <td>NaN</td>\n",
       "      <td>NaN</td>\n",
       "      <td>NaN</td>\n",
       "      <td>NaN</td>\n",
       "      <td>NaN</td>\n",
       "      <td>NaN</td>\n",
       "      <td>NaN</td>\n",
       "    </tr>\n",
       "  </tbody>\n",
       "</table>\n",
       "<p>5 rows × 53 columns</p>\n",
       "</div>"
      ],
      "text/plain": [
       "     id                       separation_type  cease_date  dete_start_date  \\\n",
       "0   4.0             Resignation-Other reasons      2012.0           2005.0   \n",
       "1   6.0             Resignation-Other reasons      2012.0           1994.0   \n",
       "2   9.0             Resignation-Other reasons      2012.0           2009.0   \n",
       "3  10.0            Resignation-Other employer      2012.0           1997.0   \n",
       "4  12.0  Resignation-Move overseas/interstate      2012.0           2009.0   \n",
       "\n",
       "   role_start_date          position classification                region  \\\n",
       "0           2006.0           Teacher        Primary    Central Queensland   \n",
       "1           1997.0  Guidance Officer            NaN        Central Office   \n",
       "2           2009.0           Teacher      Secondary      North Queensland   \n",
       "3           2008.0      Teacher Aide            NaN                   NaN   \n",
       "4           2009.0           Teacher      Secondary  Far North Queensland   \n",
       "\n",
       "          business_unit    employment_status  ...  \\\n",
       "0                   NaN  Permanent Full-time  ...   \n",
       "1  Education Queensland  Permanent Full-time  ...   \n",
       "2                   NaN  Permanent Full-time  ...   \n",
       "3                   NaN  Permanent Part-time  ...   \n",
       "4                   NaN  Permanent Full-time  ...   \n",
       "\n",
       "  Contributing Factors. Ill Health Contributing Factors. Maternity/Family  \\\n",
       "0                              NaN                                    NaN   \n",
       "1                              NaN                                    NaN   \n",
       "2                              NaN                                    NaN   \n",
       "3                              NaN                                    NaN   \n",
       "4                              NaN                                    NaN   \n",
       "\n",
       "  Contributing Factors. Dissatisfaction  \\\n",
       "0                                   NaN   \n",
       "1                                   NaN   \n",
       "2                                   NaN   \n",
       "3                                   NaN   \n",
       "4                                   NaN   \n",
       "\n",
       "  Contributing Factors. Job Dissatisfaction  \\\n",
       "0                                       NaN   \n",
       "1                                       NaN   \n",
       "2                                       NaN   \n",
       "3                                       NaN   \n",
       "4                                       NaN   \n",
       "\n",
       "  Contributing Factors. Interpersonal Conflict Contributing Factors. Study  \\\n",
       "0                                          NaN                         NaN   \n",
       "1                                          NaN                         NaN   \n",
       "2                                          NaN                         NaN   \n",
       "3                                          NaN                         NaN   \n",
       "4                                          NaN                         NaN   \n",
       "\n",
       "  Contributing Factors. Travel Contributing Factors. Other  \\\n",
       "0                          NaN                         NaN   \n",
       "1                          NaN                         NaN   \n",
       "2                          NaN                         NaN   \n",
       "3                          NaN                         NaN   \n",
       "4                          NaN                         NaN   \n",
       "\n",
       "  Contributing Factors. NONE role_service  \n",
       "0                        NaN          NaN  \n",
       "1                        NaN          NaN  \n",
       "2                        NaN          NaN  \n",
       "3                        NaN          NaN  \n",
       "4                        NaN          NaN  \n",
       "\n",
       "[5 rows x 53 columns]"
      ]
     },
     "execution_count": 27,
     "metadata": {},
     "output_type": "execute_result"
    }
   ],
   "source": [
    "# combine dataframes\n",
    "combined = pd.concat([dete_resignations_up, tafe_resignations_up], ignore_index = True)\n",
    "combined.head()"
   ]
  },
  {
   "cell_type": "markdown",
   "metadata": {},
   "source": [
    "Before performing a more extensive analysis of our dataset, we'll need to (1) eliminate some of the columns above that aren't necessary for our analysis and (2) clean the `institute_service` column, whose values are currently in a variety of formats, as shown below:"
   ]
  },
  {
   "cell_type": "code",
   "execution_count": 28,
   "metadata": {},
   "outputs": [
    {
     "name": "stdout",
     "output_type": "stream",
     "text": [
      "Less than 1 year      73\n",
      "1-2                   64\n",
      "3-4                   61\n",
      "5-6                   33\n",
      "11-20                 26\n",
      "5.0                   23\n",
      "1.0                   22\n",
      "7-10                  21\n",
      "3.0                   19\n",
      "0.0                   19\n",
      "6.0                   17\n",
      "4.0                   16\n",
      "2.0                   14\n",
      "9.0                   14\n",
      "7.0                   13\n",
      "More than 20 years    10\n",
      "8.0                    8\n",
      "13.0                   8\n",
      "15.0                   7\n",
      "20.0                   7\n",
      "10.0                   6\n",
      "22.0                   6\n",
      "17.0                   6\n",
      "14.0                   6\n",
      "12.0                   6\n",
      "16.0                   5\n",
      "18.0                   5\n",
      "23.0                   4\n",
      "24.0                   4\n",
      "19.0                   3\n",
      "11.0                   3\n",
      "21.0                   3\n",
      "39.0                   3\n",
      "32.0                   3\n",
      "36.0                   2\n",
      "30.0                   2\n",
      "28.0                   2\n",
      "26.0                   2\n",
      "25.0                   2\n",
      "29.0                   1\n",
      "27.0                   1\n",
      "31.0                   1\n",
      "33.0                   1\n",
      "34.0                   1\n",
      "41.0                   1\n",
      "35.0                   1\n",
      "42.0                   1\n",
      "38.0                   1\n",
      "Name: institute_service, dtype: int64\n"
     ]
    }
   ],
   "source": [
    "print(combined['institute_service'].value_counts())"
   ]
  },
  {
   "cell_type": "markdown",
   "metadata": {},
   "source": [
    "First, we'll delete any columns with less than 500 non-null values."
   ]
  },
  {
   "cell_type": "code",
   "execution_count": 29,
   "metadata": {},
   "outputs": [
    {
     "data": {
      "text/html": [
       "<div>\n",
       "<style scoped>\n",
       "    .dataframe tbody tr th:only-of-type {\n",
       "        vertical-align: middle;\n",
       "    }\n",
       "\n",
       "    .dataframe tbody tr th {\n",
       "        vertical-align: top;\n",
       "    }\n",
       "\n",
       "    .dataframe thead th {\n",
       "        text-align: right;\n",
       "    }\n",
       "</style>\n",
       "<table border=\"1\" class=\"dataframe\">\n",
       "  <thead>\n",
       "    <tr style=\"text-align: right;\">\n",
       "      <th></th>\n",
       "      <th>id</th>\n",
       "      <th>separation_type</th>\n",
       "      <th>cease_date</th>\n",
       "      <th>position</th>\n",
       "      <th>employment_status</th>\n",
       "      <th>gender</th>\n",
       "      <th>age</th>\n",
       "      <th>institute_service</th>\n",
       "      <th>dissatisfied</th>\n",
       "      <th>institute</th>\n",
       "    </tr>\n",
       "  </thead>\n",
       "  <tbody>\n",
       "    <tr>\n",
       "      <th>0</th>\n",
       "      <td>4.0</td>\n",
       "      <td>Resignation-Other reasons</td>\n",
       "      <td>2012.0</td>\n",
       "      <td>Teacher</td>\n",
       "      <td>Permanent Full-time</td>\n",
       "      <td>Female</td>\n",
       "      <td>36-40</td>\n",
       "      <td>7</td>\n",
       "      <td>False</td>\n",
       "      <td>DETE</td>\n",
       "    </tr>\n",
       "    <tr>\n",
       "      <th>1</th>\n",
       "      <td>6.0</td>\n",
       "      <td>Resignation-Other reasons</td>\n",
       "      <td>2012.0</td>\n",
       "      <td>Guidance Officer</td>\n",
       "      <td>Permanent Full-time</td>\n",
       "      <td>Female</td>\n",
       "      <td>41-45</td>\n",
       "      <td>18</td>\n",
       "      <td>True</td>\n",
       "      <td>DETE</td>\n",
       "    </tr>\n",
       "    <tr>\n",
       "      <th>2</th>\n",
       "      <td>9.0</td>\n",
       "      <td>Resignation-Other reasons</td>\n",
       "      <td>2012.0</td>\n",
       "      <td>Teacher</td>\n",
       "      <td>Permanent Full-time</td>\n",
       "      <td>Female</td>\n",
       "      <td>31-35</td>\n",
       "      <td>3</td>\n",
       "      <td>False</td>\n",
       "      <td>DETE</td>\n",
       "    </tr>\n",
       "    <tr>\n",
       "      <th>3</th>\n",
       "      <td>10.0</td>\n",
       "      <td>Resignation-Other employer</td>\n",
       "      <td>2012.0</td>\n",
       "      <td>Teacher Aide</td>\n",
       "      <td>Permanent Part-time</td>\n",
       "      <td>Female</td>\n",
       "      <td>46-50</td>\n",
       "      <td>15</td>\n",
       "      <td>True</td>\n",
       "      <td>DETE</td>\n",
       "    </tr>\n",
       "    <tr>\n",
       "      <th>4</th>\n",
       "      <td>12.0</td>\n",
       "      <td>Resignation-Move overseas/interstate</td>\n",
       "      <td>2012.0</td>\n",
       "      <td>Teacher</td>\n",
       "      <td>Permanent Full-time</td>\n",
       "      <td>Male</td>\n",
       "      <td>31-35</td>\n",
       "      <td>3</td>\n",
       "      <td>False</td>\n",
       "      <td>DETE</td>\n",
       "    </tr>\n",
       "  </tbody>\n",
       "</table>\n",
       "</div>"
      ],
      "text/plain": [
       "     id                       separation_type  cease_date          position  \\\n",
       "0   4.0             Resignation-Other reasons      2012.0           Teacher   \n",
       "1   6.0             Resignation-Other reasons      2012.0  Guidance Officer   \n",
       "2   9.0             Resignation-Other reasons      2012.0           Teacher   \n",
       "3  10.0            Resignation-Other employer      2012.0      Teacher Aide   \n",
       "4  12.0  Resignation-Move overseas/interstate      2012.0           Teacher   \n",
       "\n",
       "     employment_status  gender    age institute_service dissatisfied institute  \n",
       "0  Permanent Full-time  Female  36-40                 7        False      DETE  \n",
       "1  Permanent Full-time  Female  41-45                18         True      DETE  \n",
       "2  Permanent Full-time  Female  31-35                 3        False      DETE  \n",
       "3  Permanent Part-time  Female  46-50                15         True      DETE  \n",
       "4  Permanent Full-time    Male  31-35                 3        False      DETE  "
      ]
     },
     "execution_count": 29,
     "metadata": {},
     "output_type": "execute_result"
    }
   ],
   "source": [
    "combined_updated = combined.dropna(axis=1,thresh=500)\n",
    "combined_updated.head()"
   ]
  },
  {
   "cell_type": "markdown",
   "metadata": {},
   "source": [
    "Now that we have a much more manageable number of columns, we'll clean the values in the `institute_service` column. While there are several ways to handle this, for this project, we'll divide lengths of service into career stages within the organization:\n",
    "- New: Less than 3 years\n",
    "- Experienced: 3–6 years\n",
    "- Established: 7–10 years\n",
    "- Veteran: 11 or more years\n",
    "\n",
    "A more comprehensive explanation of the rationale for this decision is available [here](https://www.businesswire.com/news/home/20171108006002/en/Age-Number-Engage-Employees-Career-Stage).\n",
    "\n",
    "First, we'll convert all values in this column to numbers. We'll treat the non-numeric values in the original table as follows:\n",
    "\n",
    "| Value in original dataset | Associated range  | Converted value (career stage) |\n",
    "|---------------------------|-------------------|--------------------------------|\n",
    "| Less than 1 year          | Less than 3 years | New                            |\n",
    "| 1–2                       | Less than 3 years | New                            |\n",
    "| 3–4                       | 3–6 years         | Experienced                    |\n",
    "| 5–6                       | 3–6 years         | Experienced                    |\n",
    "| 7–10                      | 7–10 years        | Established                    |\n",
    "| 11–20                     | 11 or more years  | Veteran                        |\n",
    "| More than 20 years        | 11 or more years  | Veteran                        |"
   ]
  },
  {
   "cell_type": "code",
   "execution_count": 30,
   "metadata": {},
   "outputs": [
    {
     "name": "stdout",
     "output_type": "stream",
     "text": [
      "1.0     95\n",
      "2.0     78\n",
      "4.0     77\n",
      "6.0     50\n",
      "20.0    43\n",
      "10.0    27\n",
      "5.0     23\n",
      "3.0     19\n",
      "0.0     19\n",
      "9.0     14\n",
      "7.0     13\n",
      "13.0     8\n",
      "8.0      8\n",
      "15.0     7\n",
      "22.0     6\n",
      "17.0     6\n",
      "14.0     6\n",
      "12.0     6\n",
      "16.0     5\n",
      "18.0     5\n",
      "24.0     4\n",
      "23.0     4\n",
      "21.0     3\n",
      "19.0     3\n",
      "11.0     3\n",
      "32.0     3\n",
      "39.0     3\n",
      "36.0     2\n",
      "26.0     2\n",
      "28.0     2\n",
      "25.0     2\n",
      "30.0     2\n",
      "29.0     1\n",
      "35.0     1\n",
      "42.0     1\n",
      "27.0     1\n",
      "41.0     1\n",
      "38.0     1\n",
      "34.0     1\n",
      "33.0     1\n",
      "31.0     1\n",
      "Name: institute_service, dtype: int64\n"
     ]
    }
   ],
   "source": [
    "#create copy to avoid setting with copy warning\n",
    "combined_updated = combined_updated.copy()\n",
    "# change ranges to numbers in institute_service column\n",
    "ranges_map = {'Less than 1 year':'1', '1-2':'2', '3-4':'4',\n",
    "              '5-6':'6', '7-10':'10', '11-20':'20',\n",
    "              'More than 20 years':'20'}\n",
    "combined_updated['institute_service'].replace(ranges_map, inplace=True)\n",
    "# convert all to floats\n",
    "combined_updated['institute_service'] = combined_updated['institute_service'].astype(float)\n",
    "# check changes\n",
    "print(combined_updated['institute_service'].value_counts())"
   ]
  },
  {
   "cell_type": "markdown",
   "metadata": {},
   "source": [
    "Next, we'll define a function that maps each of these values to one of our predefined career stages—to recap, these stages are:\n",
    "- New: Less than 3 years\n",
    "- Experienced: 3–6 years\n",
    "- Established: 7–10 years\n",
    "- Veteran: 11 or more years"
   ]
  },
  {
   "cell_type": "code",
   "execution_count": 31,
   "metadata": {},
   "outputs": [
    {
     "name": "stdout",
     "output_type": "stream",
     "text": [
      "New            192\n",
      "Experienced    169\n",
      "Veteran        134\n",
      "NaN             88\n",
      "Established     62\n",
      "Name: service_cat, dtype: int64\n"
     ]
    }
   ],
   "source": [
    "# map values to their respective categories\n",
    "def career_stage_map(val):\n",
    "    if pd.isnull(val):\n",
    "        return np.nan\n",
    "    elif val < 3:\n",
    "        return 'New'\n",
    "    elif val < 7:\n",
    "        return 'Experienced'\n",
    "    elif val < 11:\n",
    "        return 'Established'\n",
    "    else:\n",
    "        return 'Veteran'\n",
    "# apply above function to dataset, creating a new column for career stage\n",
    "combined_updated['service_cat'] = combined_updated['institute_service'].apply(career_stage_map)\n",
    "# check new column\n",
    "print(combined_updated['service_cat'].value_counts(dropna=False))"
   ]
  },
  {
   "cell_type": "markdown",
   "metadata": {},
   "source": [
    "As we can see from the above, we've successfully created a new column representing career stage (`service_cat`). The number of employees in each category decreases linearly with length of service. Our next step is to calculate the percentage of dissatisfied employees within each service category group."
   ]
  },
  {
   "cell_type": "code",
   "execution_count": 39,
   "metadata": {},
   "outputs": [
    {
     "name": "stdout",
     "output_type": "stream",
     "text": [
      "False    397\n",
      "True     240\n",
      "NaN        8\n",
      "Name: dissatisfied, dtype: int64\n",
      "False    405\n",
      "True     240\n",
      "Name: dissatisfied, dtype: int64\n"
     ]
    }
   ],
   "source": [
    "# check number of true, false, and missing values in dissatisfied column\n",
    "print(combined_updated['dissatisfied'].value_counts(dropna=False))\n",
    "# fill the eight missing values with false (most common value)\n",
    "combined_updated = combined_updated.fillna(value={'dissatisfied': False})\n",
    "# check that values have been changed\n",
    "print(combined_updated['dissatisfied'].value_counts(dropna=False))"
   ]
  },
  {
   "cell_type": "code",
   "execution_count": 45,
   "metadata": {},
   "outputs": [
    {
     "data": {
      "text/plain": [
       "Text(0.5, 0, 'Service Category')"
      ]
     },
     "execution_count": 45,
     "metadata": {},
     "output_type": "execute_result"
    },
    {
     "data": {
      "image/png": "[encoded data removed]",
      "text/plain": [
       "<Figure size 432x288 with 1 Axes>"
      ]
     },
     "metadata": {
      "needs_background": "light"
     },
     "output_type": "display_data"
    }
   ],
   "source": [
    "# Use the DataFrame.pivot_table() method to calculate the percentage of \n",
    "# dissatisfied employees in each service_cat group.\n",
    "# Since a True value is considered to be 1, calculating the mean \n",
    "# will also calculate the percentage of dissatisfied employees. \n",
    "# The default aggregation function is the mean, so you can exclude the aggfunc argument.\n",
    "\n",
    "table = combined_updated.pivot_table('dissatisfied', 'service_cat')\n",
    "%matplotlib inline\n",
    "fig = table.plot(kind='bar')\n",
    "fig.set_xlabel('Service Category')"
   ]
  },
  {
   "cell_type": "markdown",
   "metadata": {},
   "source": [
    "As we can see above, established employees are the most likely to be dissatisfied, followed closely by veteran employees. New employees tend to be the least dissatisfied. There are several possible explanations for this; for example, those who are less established in their careers may be more likely to switch jobs for reasons related to career changes, career advancement at other companies, and family and relationships, whereas those who have been established in their careers longer may be unlikely to leave a job unless they are retiring or unhappy."
   ]
  }
 ],
 "metadata": {
  "kernelspec": {
   "display_name": "Python 3",
   "language": "python",
   "name": "python3"
  },
  "language_info": {
   "codemirror_mode": {
    "name": "ipython",
    "version": 3
   },
   "file_extension": ".py",
   "mimetype": "text/x-python",
   "name": "python",
   "nbconvert_exporter": "python",
   "pygments_lexer": "ipython3",
   "version": "3.8.5"
  }
 },
 "nbformat": 4,
 "nbformat_minor": 4
}
